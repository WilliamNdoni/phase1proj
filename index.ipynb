{
 "cells": [
  {
   "cell_type": "markdown",
   "id": "3e59012b",
   "metadata": {},
   "source": [
    "# AFFLUENT FILMS AT BOX OFFICE : CASE STUDY MICROSOFT\n"
   ]
  },
  {
   "cell_type": "markdown",
   "id": "08633f6e",
   "metadata": {},
   "source": [
    "## 1. Business Understanding"
   ]
  },
  {
   "cell_type": "markdown",
   "id": "e91ee132",
   "metadata": {},
   "source": [
    "Microsoft is  a technology corporation best known for software products such as Windows operating system. The company would like to create a movie studio due to the trending original video creation. In order to do this,the company needs to know the type of films that are currently doing the best at box office. \n",
    "\n",
    "This project will help provide insight on the trending films by providing meaningfull visualizations and recommend on the type of films the company should venture into. The project will also show the budget associated with each film and recommend on whether or not the company should venture into that film. The project will also recommend on whether or not the company should venture into filming at all based on the net returns of the films."
   ]
  },
  {
   "cell_type": "markdown",
   "id": "927e4013",
   "metadata": {},
   "source": [
    "## 2.Data Understanding"
   ]
  },
  {
   "cell_type": "markdown",
   "id": "efbc2a7d",
   "metadata": {},
   "source": [
    "The data used in this project was extracted from [IMDb](https://www.imdb.com/) ,[Box Office Mojo](https://www.boxofficemojo.com/) and [The Numbers](https://www.the-numbers.com/)\n",
    "The data set from Box Office Mojo contains the gross income of each movie,both domestic and foreign and the year it was released. This helps in determining the income generated from each movie. This dataset contains 3387 rows and 5 columns.\n",
    "\n",
    "The IMDb website contained multiple data sets. The following datasets were extracted:\n",
    "- name and basics data set : This data set contains the names of people,their associated proffession and the movies they are known for. It can be used to determine the best personel to hire based on the movies they are known for.\n",
    "\n",
    "- title and ratings data set : This data sets contains the code names of movies their rating and number of people who voted. It can be of use to determine whether a certain film was popular(loved) or hated.\n",
    "\n",
    "- title and basics data set : This data set contains the names and code names of movies and their genres. \n",
    "\n",
    "The dataset from The Numbers website contains the names of movies and their associated budgets as well as the domestic and worldwide gross. It can help determine losses associated with each movie as well as the profits.\n",
    "\n",
    "The project will use these datasets to come up with the insights and relevant recommendations."
   ]
  }
 ],
 "metadata": {
  "kernelspec": {
   "display_name": "Python 3 (ipykernel)",
   "language": "python",
   "name": "python3"
  },
  "language_info": {
   "codemirror_mode": {
    "name": "ipython",
    "version": 3
   },
   "file_extension": ".py",
   "mimetype": "text/x-python",
   "name": "python",
   "nbconvert_exporter": "python",
   "pygments_lexer": "ipython3",
   "version": "3.10.11"
  }
 },
 "nbformat": 4,
 "nbformat_minor": 5
}
