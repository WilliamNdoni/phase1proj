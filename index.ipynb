{
 "cells": [
  {
   "cell_type": "markdown",
   "id": "3e59012b",
   "metadata": {},
   "source": [
    "# AFFLUENT FILMS AT BOX OFFICE : CASE STUDY MICROSOFT\n"
   ]
  },
  {
   "cell_type": "markdown",
   "id": "08633f6e",
   "metadata": {},
   "source": [
    "## 1. Business Understanding"
   ]
  },
  {
   "cell_type": "markdown",
   "id": "e91ee132",
   "metadata": {},
   "source": [
    "Microsoft is  a technology corporation best known for software products such as Windows operating system. The company would like to create a movie studio due to the trending original video creation. In order to do this,the company needs to know the type of films that are currently doing the best at box office. \n",
    "\n",
    "This project will extract the relevant data and provide insight on the trending films by providing meaningfull visualizations. It will also recommend on the type of films the company should venture into. The project will also show the budget associated with each film and recommend on whether or not the company should venture into that film. The project will also recommend on whether or not the company should venture into filming at all based on the net returns of the films."
   ]
  },
  {
   "cell_type": "markdown",
   "id": "927e4013",
   "metadata": {},
   "source": [
    "## 2.Data Understanding"
   ]
  },
  {
   "cell_type": "markdown",
   "id": "efbc2a7d",
   "metadata": {},
   "source": [
    "The data used in this project was extracted from [IMDb](https://www.imdb.com/) ,[Box Office Mojo](https://www.boxofficemojo.com/) ,[The Numbers](https://www.the-numbers.com/) ,[TheMovieDB](https://www.themoviedb.org/).\n",
    "\n",
    "The dataset from Box Office Mojo contains the gross income of each movie,both domestic and foreign and the year it was released. This helps in determining the income generated from each movie. This dataset contains 3387 rows and 5 columns.\n",
    "\n",
    "The IMDb website contained multiple datasets. The following datasets were extracted:\n",
    "- crew dataset : This dataset contains the movie ids and their corresponding directors and writters. It can be joined with other datasets to yield important information such as which directors direct movies with the highest  ratings ?\n",
    "\n",
    "- title and ratings dataset : This dataset contains the code names of movies their rating and number of people who voted. It can be of use to determine whether a certain film was popular(loved) or hated.\n",
    "\n",
    "- title and basics dataset : This dataset contains the names and code names of movies and their genres. \n",
    "\n",
    "The dataset extracted from The Numbers website contains the names of movies and their associated budgets as well as the domestic and worldwide gross. It can help determine losses associated with each movie as well as the profits.\n",
    "\n",
    "The dataset extracted from TheMovieDB contains several columns that can be of great use to this project. It will help us answer questions such as which genres had the highest rating ?\n",
    "\n",
    "The project will use these datasets to come up with the insights and relevant recommendations."
   ]
  },
  {
   "cell_type": "markdown",
   "id": "1a90738c",
   "metadata": {},
   "source": [
    "##  3.Data preparation"
   ]
  },
  {
   "cell_type": "markdown",
   "id": "4e2f3d6e",
   "metadata": {},
   "source": [
    "### Importing the relevant libraries"
   ]
  },
  {
   "cell_type": "code",
   "execution_count": 1,
   "id": "afe5d03f",
   "metadata": {},
   "outputs": [],
   "source": [
    "import pandas as pd\n",
    "import matplotlib.pyplot as plt\n",
    "import numpy as np\n",
    "import seaborn as sns\n",
    "\n",
    "%matplotlib inline\n",
    "sns.set()"
   ]
  },
  {
   "cell_type": "markdown",
   "id": "80b946d4",
   "metadata": {},
   "source": [
    "### Loading and exploring the various data sets"
   ]
  },
  {
   "cell_type": "code",
   "execution_count": 2,
   "id": "d9d64aeb",
   "metadata": {},
   "outputs": [
    {
     "data": {
      "text/html": [
       "<div>\n",
       "<style scoped>\n",
       "    .dataframe tbody tr th:only-of-type {\n",
       "        vertical-align: middle;\n",
       "    }\n",
       "\n",
       "    .dataframe tbody tr th {\n",
       "        vertical-align: top;\n",
       "    }\n",
       "\n",
       "    .dataframe thead th {\n",
       "        text-align: right;\n",
       "    }\n",
       "</style>\n",
       "<table border=\"1\" class=\"dataframe\">\n",
       "  <thead>\n",
       "    <tr style=\"text-align: right;\">\n",
       "      <th></th>\n",
       "      <th>title</th>\n",
       "      <th>studio</th>\n",
       "      <th>domestic_gross</th>\n",
       "      <th>foreign_gross</th>\n",
       "      <th>year</th>\n",
       "    </tr>\n",
       "  </thead>\n",
       "  <tbody>\n",
       "    <tr>\n",
       "      <th>0</th>\n",
       "      <td>Toy Story 3</td>\n",
       "      <td>BV</td>\n",
       "      <td>415000000.0</td>\n",
       "      <td>652000000</td>\n",
       "      <td>2010</td>\n",
       "    </tr>\n",
       "    <tr>\n",
       "      <th>1</th>\n",
       "      <td>Alice in Wonderland (2010)</td>\n",
       "      <td>BV</td>\n",
       "      <td>334200000.0</td>\n",
       "      <td>691300000</td>\n",
       "      <td>2010</td>\n",
       "    </tr>\n",
       "    <tr>\n",
       "      <th>2</th>\n",
       "      <td>Harry Potter and the Deathly Hallows Part 1</td>\n",
       "      <td>WB</td>\n",
       "      <td>296000000.0</td>\n",
       "      <td>664300000</td>\n",
       "      <td>2010</td>\n",
       "    </tr>\n",
       "    <tr>\n",
       "      <th>3</th>\n",
       "      <td>Inception</td>\n",
       "      <td>WB</td>\n",
       "      <td>292600000.0</td>\n",
       "      <td>535700000</td>\n",
       "      <td>2010</td>\n",
       "    </tr>\n",
       "    <tr>\n",
       "      <th>4</th>\n",
       "      <td>Shrek Forever After</td>\n",
       "      <td>P/DW</td>\n",
       "      <td>238700000.0</td>\n",
       "      <td>513900000</td>\n",
       "      <td>2010</td>\n",
       "    </tr>\n",
       "  </tbody>\n",
       "</table>\n",
       "</div>"
      ],
      "text/plain": [
       "                                         title studio  domestic_gross  \\\n",
       "0                                  Toy Story 3     BV     415000000.0   \n",
       "1                   Alice in Wonderland (2010)     BV     334200000.0   \n",
       "2  Harry Potter and the Deathly Hallows Part 1     WB     296000000.0   \n",
       "3                                    Inception     WB     292600000.0   \n",
       "4                          Shrek Forever After   P/DW     238700000.0   \n",
       "\n",
       "  foreign_gross  year  \n",
       "0     652000000  2010  \n",
       "1     691300000  2010  \n",
       "2     664300000  2010  \n",
       "3     535700000  2010  \n",
       "4     513900000  2010  "
      ]
     },
     "execution_count": 2,
     "metadata": {},
     "output_type": "execute_result"
    }
   ],
   "source": [
    "# Loading the box office mojo datasets\n",
    "bom_data_set = pd.read_csv('bom.movie_gross.csv.gz')\n",
    "bom_data_set.head()"
   ]
  },
  {
   "cell_type": "code",
   "execution_count": 3,
   "id": "53da1aa7",
   "metadata": {},
   "outputs": [
    {
     "data": {
      "text/html": [
       "<div>\n",
       "<style scoped>\n",
       "    .dataframe tbody tr th:only-of-type {\n",
       "        vertical-align: middle;\n",
       "    }\n",
       "\n",
       "    .dataframe tbody tr th {\n",
       "        vertical-align: top;\n",
       "    }\n",
       "\n",
       "    .dataframe thead th {\n",
       "        text-align: right;\n",
       "    }\n",
       "</style>\n",
       "<table border=\"1\" class=\"dataframe\">\n",
       "  <thead>\n",
       "    <tr style=\"text-align: right;\">\n",
       "      <th></th>\n",
       "      <th>tconst</th>\n",
       "      <th>primary_title</th>\n",
       "      <th>original_title</th>\n",
       "      <th>start_year</th>\n",
       "      <th>runtime_minutes</th>\n",
       "      <th>genres</th>\n",
       "    </tr>\n",
       "  </thead>\n",
       "  <tbody>\n",
       "    <tr>\n",
       "      <th>0</th>\n",
       "      <td>tt0063540</td>\n",
       "      <td>Sunghursh</td>\n",
       "      <td>Sunghursh</td>\n",
       "      <td>2013</td>\n",
       "      <td>175.0</td>\n",
       "      <td>Action,Crime,Drama</td>\n",
       "    </tr>\n",
       "    <tr>\n",
       "      <th>1</th>\n",
       "      <td>tt0066787</td>\n",
       "      <td>One Day Before the Rainy Season</td>\n",
       "      <td>Ashad Ka Ek Din</td>\n",
       "      <td>2019</td>\n",
       "      <td>114.0</td>\n",
       "      <td>Biography,Drama</td>\n",
       "    </tr>\n",
       "    <tr>\n",
       "      <th>2</th>\n",
       "      <td>tt0069049</td>\n",
       "      <td>The Other Side of the Wind</td>\n",
       "      <td>The Other Side of the Wind</td>\n",
       "      <td>2018</td>\n",
       "      <td>122.0</td>\n",
       "      <td>Drama</td>\n",
       "    </tr>\n",
       "    <tr>\n",
       "      <th>3</th>\n",
       "      <td>tt0069204</td>\n",
       "      <td>Sabse Bada Sukh</td>\n",
       "      <td>Sabse Bada Sukh</td>\n",
       "      <td>2018</td>\n",
       "      <td>NaN</td>\n",
       "      <td>Comedy,Drama</td>\n",
       "    </tr>\n",
       "    <tr>\n",
       "      <th>4</th>\n",
       "      <td>tt0100275</td>\n",
       "      <td>The Wandering Soap Opera</td>\n",
       "      <td>La Telenovela Errante</td>\n",
       "      <td>2017</td>\n",
       "      <td>80.0</td>\n",
       "      <td>Comedy,Drama,Fantasy</td>\n",
       "    </tr>\n",
       "  </tbody>\n",
       "</table>\n",
       "</div>"
      ],
      "text/plain": [
       "      tconst                    primary_title              original_title  \\\n",
       "0  tt0063540                        Sunghursh                   Sunghursh   \n",
       "1  tt0066787  One Day Before the Rainy Season             Ashad Ka Ek Din   \n",
       "2  tt0069049       The Other Side of the Wind  The Other Side of the Wind   \n",
       "3  tt0069204                  Sabse Bada Sukh             Sabse Bada Sukh   \n",
       "4  tt0100275         The Wandering Soap Opera       La Telenovela Errante   \n",
       "\n",
       "   start_year  runtime_minutes                genres  \n",
       "0        2013            175.0    Action,Crime,Drama  \n",
       "1        2019            114.0       Biography,Drama  \n",
       "2        2018            122.0                 Drama  \n",
       "3        2018              NaN          Comedy,Drama  \n",
       "4        2017             80.0  Comedy,Drama,Fantasy  "
      ]
     },
     "execution_count": 3,
     "metadata": {},
     "output_type": "execute_result"
    }
   ],
   "source": [
    "# loading the imdb title and basics dataset\n",
    "title_basics = pd.read_csv('imdb.title.basics.csv.gz')\n",
    "title_basics.head()"
   ]
  },
  {
   "cell_type": "code",
   "execution_count": 4,
   "id": "8a09bcbf",
   "metadata": {},
   "outputs": [
    {
     "data": {
      "text/html": [
       "<div>\n",
       "<style scoped>\n",
       "    .dataframe tbody tr th:only-of-type {\n",
       "        vertical-align: middle;\n",
       "    }\n",
       "\n",
       "    .dataframe tbody tr th {\n",
       "        vertical-align: top;\n",
       "    }\n",
       "\n",
       "    .dataframe thead th {\n",
       "        text-align: right;\n",
       "    }\n",
       "</style>\n",
       "<table border=\"1\" class=\"dataframe\">\n",
       "  <thead>\n",
       "    <tr style=\"text-align: right;\">\n",
       "      <th></th>\n",
       "      <th>tconst</th>\n",
       "      <th>averagerating</th>\n",
       "      <th>numvotes</th>\n",
       "    </tr>\n",
       "  </thead>\n",
       "  <tbody>\n",
       "    <tr>\n",
       "      <th>0</th>\n",
       "      <td>tt10356526</td>\n",
       "      <td>8.3</td>\n",
       "      <td>31</td>\n",
       "    </tr>\n",
       "    <tr>\n",
       "      <th>1</th>\n",
       "      <td>tt10384606</td>\n",
       "      <td>8.9</td>\n",
       "      <td>559</td>\n",
       "    </tr>\n",
       "    <tr>\n",
       "      <th>2</th>\n",
       "      <td>tt1042974</td>\n",
       "      <td>6.4</td>\n",
       "      <td>20</td>\n",
       "    </tr>\n",
       "    <tr>\n",
       "      <th>3</th>\n",
       "      <td>tt1043726</td>\n",
       "      <td>4.2</td>\n",
       "      <td>50352</td>\n",
       "    </tr>\n",
       "    <tr>\n",
       "      <th>4</th>\n",
       "      <td>tt1060240</td>\n",
       "      <td>6.5</td>\n",
       "      <td>21</td>\n",
       "    </tr>\n",
       "  </tbody>\n",
       "</table>\n",
       "</div>"
      ],
      "text/plain": [
       "       tconst  averagerating  numvotes\n",
       "0  tt10356526            8.3        31\n",
       "1  tt10384606            8.9       559\n",
       "2   tt1042974            6.4        20\n",
       "3   tt1043726            4.2     50352\n",
       "4   tt1060240            6.5        21"
      ]
     },
     "execution_count": 4,
     "metadata": {},
     "output_type": "execute_result"
    }
   ],
   "source": [
    "# Loading the imdb title and ratings dataset\n",
    "ratings_df= pd.read_csv('imdb.title.ratings.csv.gz')\n",
    "ratings_df.head()"
   ]
  },
  {
   "cell_type": "code",
   "execution_count": 5,
   "id": "cfe330ec",
   "metadata": {},
   "outputs": [
    {
     "data": {
      "text/html": [
       "<div>\n",
       "<style scoped>\n",
       "    .dataframe tbody tr th:only-of-type {\n",
       "        vertical-align: middle;\n",
       "    }\n",
       "\n",
       "    .dataframe tbody tr th {\n",
       "        vertical-align: top;\n",
       "    }\n",
       "\n",
       "    .dataframe thead th {\n",
       "        text-align: right;\n",
       "    }\n",
       "</style>\n",
       "<table border=\"1\" class=\"dataframe\">\n",
       "  <thead>\n",
       "    <tr style=\"text-align: right;\">\n",
       "      <th></th>\n",
       "      <th>tconst</th>\n",
       "      <th>directors</th>\n",
       "      <th>writers</th>\n",
       "    </tr>\n",
       "  </thead>\n",
       "  <tbody>\n",
       "    <tr>\n",
       "      <th>0</th>\n",
       "      <td>tt0285252</td>\n",
       "      <td>nm0899854</td>\n",
       "      <td>nm0899854</td>\n",
       "    </tr>\n",
       "    <tr>\n",
       "      <th>1</th>\n",
       "      <td>tt0438973</td>\n",
       "      <td>NaN</td>\n",
       "      <td>nm0175726,nm1802864</td>\n",
       "    </tr>\n",
       "    <tr>\n",
       "      <th>2</th>\n",
       "      <td>tt0462036</td>\n",
       "      <td>nm1940585</td>\n",
       "      <td>nm1940585</td>\n",
       "    </tr>\n",
       "    <tr>\n",
       "      <th>3</th>\n",
       "      <td>tt0835418</td>\n",
       "      <td>nm0151540</td>\n",
       "      <td>nm0310087,nm0841532</td>\n",
       "    </tr>\n",
       "    <tr>\n",
       "      <th>4</th>\n",
       "      <td>tt0878654</td>\n",
       "      <td>nm0089502,nm2291498,nm2292011</td>\n",
       "      <td>nm0284943</td>\n",
       "    </tr>\n",
       "  </tbody>\n",
       "</table>\n",
       "</div>"
      ],
      "text/plain": [
       "      tconst                      directors              writers\n",
       "0  tt0285252                      nm0899854            nm0899854\n",
       "1  tt0438973                            NaN  nm0175726,nm1802864\n",
       "2  tt0462036                      nm1940585            nm1940585\n",
       "3  tt0835418                      nm0151540  nm0310087,nm0841532\n",
       "4  tt0878654  nm0089502,nm2291498,nm2292011            nm0284943"
      ]
     },
     "execution_count": 5,
     "metadata": {},
     "output_type": "execute_result"
    }
   ],
   "source": [
    "# Loading the crew dataset from imdb\n",
    "crew_df= pd.read_csv('imdb.title.crew.csv.gz')\n",
    "crew_df.head()"
   ]
  },
  {
   "cell_type": "code",
   "execution_count": 6,
   "id": "02eaffc4",
   "metadata": {},
   "outputs": [
    {
     "data": {
      "text/html": [
       "<div>\n",
       "<style scoped>\n",
       "    .dataframe tbody tr th:only-of-type {\n",
       "        vertical-align: middle;\n",
       "    }\n",
       "\n",
       "    .dataframe tbody tr th {\n",
       "        vertical-align: top;\n",
       "    }\n",
       "\n",
       "    .dataframe thead th {\n",
       "        text-align: right;\n",
       "    }\n",
       "</style>\n",
       "<table border=\"1\" class=\"dataframe\">\n",
       "  <thead>\n",
       "    <tr style=\"text-align: right;\">\n",
       "      <th></th>\n",
       "      <th>Unnamed: 0</th>\n",
       "      <th>genre_ids</th>\n",
       "      <th>id</th>\n",
       "      <th>original_language</th>\n",
       "      <th>original_title</th>\n",
       "      <th>popularity</th>\n",
       "      <th>release_date</th>\n",
       "      <th>title</th>\n",
       "      <th>vote_average</th>\n",
       "      <th>vote_count</th>\n",
       "    </tr>\n",
       "  </thead>\n",
       "  <tbody>\n",
       "    <tr>\n",
       "      <th>0</th>\n",
       "      <td>0</td>\n",
       "      <td>[12, 14, 10751]</td>\n",
       "      <td>12444</td>\n",
       "      <td>en</td>\n",
       "      <td>Harry Potter and the Deathly Hallows: Part 1</td>\n",
       "      <td>33.533</td>\n",
       "      <td>2010-11-19</td>\n",
       "      <td>Harry Potter and the Deathly Hallows: Part 1</td>\n",
       "      <td>7.7</td>\n",
       "      <td>10788</td>\n",
       "    </tr>\n",
       "    <tr>\n",
       "      <th>1</th>\n",
       "      <td>1</td>\n",
       "      <td>[14, 12, 16, 10751]</td>\n",
       "      <td>10191</td>\n",
       "      <td>en</td>\n",
       "      <td>How to Train Your Dragon</td>\n",
       "      <td>28.734</td>\n",
       "      <td>2010-03-26</td>\n",
       "      <td>How to Train Your Dragon</td>\n",
       "      <td>7.7</td>\n",
       "      <td>7610</td>\n",
       "    </tr>\n",
       "    <tr>\n",
       "      <th>2</th>\n",
       "      <td>2</td>\n",
       "      <td>[12, 28, 878]</td>\n",
       "      <td>10138</td>\n",
       "      <td>en</td>\n",
       "      <td>Iron Man 2</td>\n",
       "      <td>28.515</td>\n",
       "      <td>2010-05-07</td>\n",
       "      <td>Iron Man 2</td>\n",
       "      <td>6.8</td>\n",
       "      <td>12368</td>\n",
       "    </tr>\n",
       "    <tr>\n",
       "      <th>3</th>\n",
       "      <td>3</td>\n",
       "      <td>[16, 35, 10751]</td>\n",
       "      <td>862</td>\n",
       "      <td>en</td>\n",
       "      <td>Toy Story</td>\n",
       "      <td>28.005</td>\n",
       "      <td>1995-11-22</td>\n",
       "      <td>Toy Story</td>\n",
       "      <td>7.9</td>\n",
       "      <td>10174</td>\n",
       "    </tr>\n",
       "    <tr>\n",
       "      <th>4</th>\n",
       "      <td>4</td>\n",
       "      <td>[28, 878, 12]</td>\n",
       "      <td>27205</td>\n",
       "      <td>en</td>\n",
       "      <td>Inception</td>\n",
       "      <td>27.920</td>\n",
       "      <td>2010-07-16</td>\n",
       "      <td>Inception</td>\n",
       "      <td>8.3</td>\n",
       "      <td>22186</td>\n",
       "    </tr>\n",
       "  </tbody>\n",
       "</table>\n",
       "</div>"
      ],
      "text/plain": [
       "   Unnamed: 0            genre_ids     id original_language  \\\n",
       "0           0      [12, 14, 10751]  12444                en   \n",
       "1           1  [14, 12, 16, 10751]  10191                en   \n",
       "2           2        [12, 28, 878]  10138                en   \n",
       "3           3      [16, 35, 10751]    862                en   \n",
       "4           4        [28, 878, 12]  27205                en   \n",
       "\n",
       "                                 original_title  popularity release_date  \\\n",
       "0  Harry Potter and the Deathly Hallows: Part 1      33.533   2010-11-19   \n",
       "1                      How to Train Your Dragon      28.734   2010-03-26   \n",
       "2                                    Iron Man 2      28.515   2010-05-07   \n",
       "3                                     Toy Story      28.005   1995-11-22   \n",
       "4                                     Inception      27.920   2010-07-16   \n",
       "\n",
       "                                          title  vote_average  vote_count  \n",
       "0  Harry Potter and the Deathly Hallows: Part 1           7.7       10788  \n",
       "1                      How to Train Your Dragon           7.7        7610  \n",
       "2                                    Iron Man 2           6.8       12368  \n",
       "3                                     Toy Story           7.9       10174  \n",
       "4                                     Inception           8.3       22186  "
      ]
     },
     "execution_count": 6,
     "metadata": {},
     "output_type": "execute_result"
    }
   ],
   "source": [
    "# Loading the movies_df from TheMovieDB\n",
    "tmdb_df =pd.read_csv('tmdb.movies.csv.gz')\n",
    "tmdb_df.head()"
   ]
  },
  {
   "cell_type": "code",
   "execution_count": 7,
   "id": "2deef834",
   "metadata": {},
   "outputs": [
    {
     "data": {
      "text/html": [
       "<div>\n",
       "<style scoped>\n",
       "    .dataframe tbody tr th:only-of-type {\n",
       "        vertical-align: middle;\n",
       "    }\n",
       "\n",
       "    .dataframe tbody tr th {\n",
       "        vertical-align: top;\n",
       "    }\n",
       "\n",
       "    .dataframe thead th {\n",
       "        text-align: right;\n",
       "    }\n",
       "</style>\n",
       "<table border=\"1\" class=\"dataframe\">\n",
       "  <thead>\n",
       "    <tr style=\"text-align: right;\">\n",
       "      <th></th>\n",
       "      <th>id</th>\n",
       "      <th>release_date</th>\n",
       "      <th>movie</th>\n",
       "      <th>production_budget</th>\n",
       "      <th>domestic_gross</th>\n",
       "      <th>worldwide_gross</th>\n",
       "    </tr>\n",
       "  </thead>\n",
       "  <tbody>\n",
       "    <tr>\n",
       "      <th>0</th>\n",
       "      <td>1</td>\n",
       "      <td>Dec 18, 2009</td>\n",
       "      <td>Avatar</td>\n",
       "      <td>$425,000,000</td>\n",
       "      <td>$760,507,625</td>\n",
       "      <td>$2,776,345,279</td>\n",
       "    </tr>\n",
       "    <tr>\n",
       "      <th>1</th>\n",
       "      <td>2</td>\n",
       "      <td>May 20, 2011</td>\n",
       "      <td>Pirates of the Caribbean: On Stranger Tides</td>\n",
       "      <td>$410,600,000</td>\n",
       "      <td>$241,063,875</td>\n",
       "      <td>$1,045,663,875</td>\n",
       "    </tr>\n",
       "    <tr>\n",
       "      <th>2</th>\n",
       "      <td>3</td>\n",
       "      <td>Jun 7, 2019</td>\n",
       "      <td>Dark Phoenix</td>\n",
       "      <td>$350,000,000</td>\n",
       "      <td>$42,762,350</td>\n",
       "      <td>$149,762,350</td>\n",
       "    </tr>\n",
       "    <tr>\n",
       "      <th>3</th>\n",
       "      <td>4</td>\n",
       "      <td>May 1, 2015</td>\n",
       "      <td>Avengers: Age of Ultron</td>\n",
       "      <td>$330,600,000</td>\n",
       "      <td>$459,005,868</td>\n",
       "      <td>$1,403,013,963</td>\n",
       "    </tr>\n",
       "    <tr>\n",
       "      <th>4</th>\n",
       "      <td>5</td>\n",
       "      <td>Dec 15, 2017</td>\n",
       "      <td>Star Wars Ep. VIII: The Last Jedi</td>\n",
       "      <td>$317,000,000</td>\n",
       "      <td>$620,181,382</td>\n",
       "      <td>$1,316,721,747</td>\n",
       "    </tr>\n",
       "  </tbody>\n",
       "</table>\n",
       "</div>"
      ],
      "text/plain": [
       "   id  release_date                                        movie  \\\n",
       "0   1  Dec 18, 2009                                       Avatar   \n",
       "1   2  May 20, 2011  Pirates of the Caribbean: On Stranger Tides   \n",
       "2   3   Jun 7, 2019                                 Dark Phoenix   \n",
       "3   4   May 1, 2015                      Avengers: Age of Ultron   \n",
       "4   5  Dec 15, 2017            Star Wars Ep. VIII: The Last Jedi   \n",
       "\n",
       "  production_budget domestic_gross worldwide_gross  \n",
       "0      $425,000,000   $760,507,625  $2,776,345,279  \n",
       "1      $410,600,000   $241,063,875  $1,045,663,875  \n",
       "2      $350,000,000    $42,762,350    $149,762,350  \n",
       "3      $330,600,000   $459,005,868  $1,403,013,963  \n",
       "4      $317,000,000   $620,181,382  $1,316,721,747  "
      ]
     },
     "execution_count": 7,
     "metadata": {},
     "output_type": "execute_result"
    }
   ],
   "source": [
    "#Loading the dataset from The Numbers\n",
    "numbers_df = pd.read_csv('tn.movie_budgets.csv.gz')\n",
    "numbers_df.head()"
   ]
  },
  {
   "cell_type": "markdown",
   "id": "d932a606",
   "metadata": {},
   "source": [
    "###  Data wrangling"
   ]
  },
  {
   "cell_type": "markdown",
   "id": "2371da56",
   "metadata": {},
   "source": [
    "### Checking for missing values and duplicates in each dataset"
   ]
  },
  {
   "cell_type": "code",
   "execution_count": 8,
   "id": "70d22ada",
   "metadata": {},
   "outputs": [
    {
     "data": {
      "text/plain": [
       "title                0\n",
       "studio               5\n",
       "domestic_gross      28\n",
       "foreign_gross     1350\n",
       "year                 0\n",
       "dtype: int64"
      ]
     },
     "execution_count": 8,
     "metadata": {},
     "output_type": "execute_result"
    }
   ],
   "source": [
    "# Determining whether bom dataset has missing values \n",
    "bom_data_set.isna().sum()"
   ]
  },
  {
   "cell_type": "markdown",
   "id": "eb0322e6",
   "metadata": {},
   "source": [
    "It can be seen that the column 'studio' 5 missing values,'foreign_gross' column has 1350 missing values and 'domestic_gross' has 28 missing values. "
   ]
  },
  {
   "cell_type": "code",
   "execution_count": 9,
   "id": "f4469639",
   "metadata": {},
   "outputs": [
    {
     "data": {
      "text/plain": [
       "(3387, 5)"
      ]
     },
     "execution_count": 9,
     "metadata": {},
     "output_type": "execute_result"
    }
   ],
   "source": [
    "# CHecking the shape of the data set to determine the number of rows(length of the data set)\n",
    "bom_data_set.shape"
   ]
  },
  {
   "cell_type": "code",
   "execution_count": 10,
   "id": "38409b0b",
   "metadata": {},
   "outputs": [
    {
     "data": {
      "text/plain": [
       "39.85828166519043"
      ]
     },
     "execution_count": 10,
     "metadata": {},
     "output_type": "execute_result"
    }
   ],
   "source": [
    "# checking the percentage of missing values in the 'domestic_gross' column\n",
    "miss = bom_data_set['foreign_gross'].isna().sum() # calculates the number of missing values in the column\n",
    "total_rows = len(bom_data_set)  # length ot the series\n",
    "miss_p = (miss/total_rows)* 100 # percentage of missing values\n",
    "miss_p"
   ]
  },
  {
   "cell_type": "markdown",
   "id": "d14e873e",
   "metadata": {},
   "source": [
    "The number of missing values in the bom dataset is too high to be dropped. However the numbers_df containing the dataset from The Numbers contains almost similar information."
   ]
  },
  {
   "cell_type": "code",
   "execution_count": 11,
   "id": "3b6202f8",
   "metadata": {},
   "outputs": [
    {
     "data": {
      "text/plain": [
       "id                   0\n",
       "release_date         0\n",
       "movie                0\n",
       "production_budget    0\n",
       "domestic_gross       0\n",
       "worldwide_gross      0\n",
       "dtype: int64"
      ]
     },
     "execution_count": 11,
     "metadata": {},
     "output_type": "execute_result"
    }
   ],
   "source": [
    "# Exploring the numbers_df for missing values\n",
    "numbers_df.isna().sum()"
   ]
  },
  {
   "cell_type": "markdown",
   "id": "521d1b46",
   "metadata": {},
   "source": [
    "The dataset contains no missing values"
   ]
  },
  {
   "cell_type": "code",
   "execution_count": 12,
   "id": "947b1a06",
   "metadata": {},
   "outputs": [
    {
     "data": {
      "text/plain": [
       "id                    int64\n",
       "release_date         object\n",
       "movie                object\n",
       "production_budget    object\n",
       "domestic_gross       object\n",
       "worldwide_gross      object\n",
       "dtype: object"
      ]
     },
     "execution_count": 12,
     "metadata": {},
     "output_type": "execute_result"
    }
   ],
   "source": [
    "# Exploring the data types in the numbers_df \n",
    "numbers_df.dtypes"
   ]
  },
  {
   "cell_type": "markdown",
   "id": "4fc1825f",
   "metadata": {},
   "source": [
    "The data types are as anticipated."
   ]
  },
  {
   "cell_type": "code",
   "execution_count": 13,
   "id": "4952e844",
   "metadata": {},
   "outputs": [
    {
     "data": {
      "text/plain": [
       "0"
      ]
     },
     "execution_count": 13,
     "metadata": {},
     "output_type": "execute_result"
    }
   ],
   "source": [
    "# Checking for duplicates in the numbers_df dataset\n",
    "# setting the subsets to release_date and movies.. a movie might have the same name but different release dates\n",
    "numbers_df.duplicated(subset = ['release_date','movie']).sum() "
   ]
  },
  {
   "cell_type": "markdown",
   "id": "3f54340f",
   "metadata": {},
   "source": [
    "The numbers_df dataset has no duplicates."
   ]
  },
  {
   "cell_type": "code",
   "execution_count": 14,
   "id": "0a9c87eb",
   "metadata": {},
   "outputs": [
    {
     "data": {
      "text/plain": [
       "tconst           0\n",
       "averagerating    0\n",
       "numvotes         0\n",
       "dtype: int64"
      ]
     },
     "execution_count": 14,
     "metadata": {},
     "output_type": "execute_result"
    }
   ],
   "source": [
    "# Checking whether the ratings_df has missing values\n",
    "ratings_df.isna().sum()"
   ]
  },
  {
   "cell_type": "markdown",
   "id": "f3007c4c",
   "metadata": {},
   "source": [
    "The dataset has no missing values"
   ]
  },
  {
   "cell_type": "code",
   "execution_count": 15,
   "id": "8fe345d1",
   "metadata": {},
   "outputs": [
    {
     "data": {
      "text/plain": [
       "tconst            object\n",
       "averagerating    float64\n",
       "numvotes           int64\n",
       "dtype: object"
      ]
     },
     "execution_count": 15,
     "metadata": {},
     "output_type": "execute_result"
    }
   ],
   "source": [
    "# Checking the data types in the ratings_df\n",
    "ratings_df.dtypes"
   ]
  },
  {
   "cell_type": "markdown",
   "id": "a1ce3a9b",
   "metadata": {},
   "source": [
    "The data types are as expected..numeric"
   ]
  },
  {
   "cell_type": "code",
   "execution_count": 16,
   "id": "81fd90f3",
   "metadata": {},
   "outputs": [
    {
     "data": {
      "text/plain": [
       "0"
      ]
     },
     "execution_count": 16,
     "metadata": {},
     "output_type": "execute_result"
    }
   ],
   "source": [
    "# checking for duplicates\n",
    "# Subset is set to tconst i.e title ids\n",
    "ratings_df.duplicated(subset = 'tconst').sum()"
   ]
  },
  {
   "cell_type": "markdown",
   "id": "68260827",
   "metadata": {},
   "source": [
    "The ratings_df has no duplicates"
   ]
  },
  {
   "cell_type": "code",
   "execution_count": 17,
   "id": "81fa4a6c",
   "metadata": {},
   "outputs": [
    {
     "data": {
      "text/plain": [
       "tconst                 0\n",
       "primary_title          0\n",
       "original_title        21\n",
       "start_year             0\n",
       "runtime_minutes    31739\n",
       "genres              5408\n",
       "dtype: int64"
      ]
     },
     "execution_count": 17,
     "metadata": {},
     "output_type": "execute_result"
    }
   ],
   "source": [
    "# Checking for missing values the title_basics dataset\n",
    "title_basics.isna().sum()"
   ]
  },
  {
   "cell_type": "code",
   "execution_count": 18,
   "id": "d1a8a0a1",
   "metadata": {},
   "outputs": [
    {
     "data": {
      "text/plain": [
       "(146144, 6)"
      ]
     },
     "execution_count": 18,
     "metadata": {},
     "output_type": "execute_result"
    }
   ],
   "source": [
    "# checking the shape of the title_basics dataset\n",
    "title_basics.shape"
   ]
  },
  {
   "cell_type": "markdown",
   "id": "8a898675",
   "metadata": {},
   "source": [
    "The 'runtime_minutes' column contains the highest number of missing values. Dropping this column might limit the scope of our research. It would be wise to replace the missing values in the dataset with a measure of central tendecy. We will use the median since it is least affected by outliers"
   ]
  },
  {
   "cell_type": "code",
   "execution_count": 19,
   "id": "632f32b3",
   "metadata": {},
   "outputs": [
    {
     "data": {
      "text/plain": [
       "tconst                0\n",
       "primary_title         0\n",
       "original_title       21\n",
       "start_year            0\n",
       "runtime_minutes       0\n",
       "genres             5408\n",
       "dtype: int64"
      ]
     },
     "execution_count": 19,
     "metadata": {},
     "output_type": "execute_result"
    }
   ],
   "source": [
    "# Replacing null run_rime rows in the title_basics dataframe with the median\n",
    "title_basics['runtime_minutes'].fillna(title_basics['runtime_minutes'].mean(),inplace = True)\n",
    "title_basics.isna().sum()"
   ]
  },
  {
   "cell_type": "markdown",
   "id": "894fdca7",
   "metadata": {},
   "source": [
    "The remaining missing rows with missing values in the title_basics dataframe can be dropped..They do not form a large part of the dataset."
   ]
  },
  {
   "cell_type": "code",
   "execution_count": 20,
   "id": "b30e909f",
   "metadata": {},
   "outputs": [
    {
     "data": {
      "text/plain": [
       "tconst             0\n",
       "primary_title      0\n",
       "original_title     0\n",
       "start_year         0\n",
       "runtime_minutes    0\n",
       "genres             0\n",
       "dtype: int64"
      ]
     },
     "execution_count": 20,
     "metadata": {},
     "output_type": "execute_result"
    }
   ],
   "source": [
    "title_basics.dropna(inplace = True)\n",
    "title_basics.isna().sum() # Checking for missing values to confirm"
   ]
  },
  {
   "cell_type": "code",
   "execution_count": 21,
   "id": "c148ccf9",
   "metadata": {},
   "outputs": [
    {
     "data": {
      "text/plain": [
       "(140734, 6)"
      ]
     },
     "execution_count": 21,
     "metadata": {},
     "output_type": "execute_result"
    }
   ],
   "source": [
    "title_basics.shape # Checking the shape of the dataframe"
   ]
  },
  {
   "cell_type": "code",
   "execution_count": 22,
   "id": "93a976fa",
   "metadata": {},
   "outputs": [
    {
     "data": {
      "text/plain": [
       "0"
      ]
     },
     "execution_count": 22,
     "metadata": {},
     "output_type": "execute_result"
    }
   ],
   "source": [
    "# checking for duplicates in the title_basics dataset\n",
    "# Setting the subset to tconst...title ids should be unique\n",
    "title_basics.duplicated(subset = 'tconst').sum()"
   ]
  },
  {
   "cell_type": "markdown",
   "id": "1719184c",
   "metadata": {},
   "source": [
    "The title_basics dataset contains no duplicates"
   ]
  },
  {
   "cell_type": "code",
   "execution_count": 23,
   "id": "a20db53c",
   "metadata": {},
   "outputs": [
    {
     "data": {
      "text/plain": [
       "tconst              object\n",
       "primary_title       object\n",
       "original_title      object\n",
       "start_year           int64\n",
       "runtime_minutes    float64\n",
       "genres              object\n",
       "dtype: object"
      ]
     },
     "execution_count": 23,
     "metadata": {},
     "output_type": "execute_result"
    }
   ],
   "source": [
    "# Checking the data types of the title_basics dataset\n",
    "title_basics.dtypes"
   ]
  },
  {
   "cell_type": "markdown",
   "id": "48343b5d",
   "metadata": {},
   "source": [
    "The data types are as expected"
   ]
  },
  {
   "cell_type": "code",
   "execution_count": 24,
   "id": "9abf79a3",
   "metadata": {},
   "outputs": [
    {
     "data": {
      "text/plain": [
       "tconst           0\n",
       "directors     5727\n",
       "writers      35883\n",
       "dtype: int64"
      ]
     },
     "execution_count": 24,
     "metadata": {},
     "output_type": "execute_result"
    }
   ],
   "source": [
    "# Checking for missing values in the crew_df\n",
    "crew_df.isna().sum()"
   ]
  },
  {
   "cell_type": "code",
   "execution_count": 25,
   "id": "44c8b666",
   "metadata": {},
   "outputs": [
    {
     "data": {
      "text/plain": [
       "(146144, 3)"
      ]
     },
     "execution_count": 25,
     "metadata": {},
     "output_type": "execute_result"
    }
   ],
   "source": [
    "crew_df.shape"
   ]
  },
  {
   "cell_type": "markdown",
   "id": "e19accb5",
   "metadata": {},
   "source": [
    "The 'writers' column in the crew_df contains a large number of missing values. The project can still work with the directors to provide any insight concerning the personnel. The column can therefore be dropped.The 'directors' column contains a small number of missing values compared to the large number of rows (146144). the missing values can be dropped since it is a small portion of the dataset."
   ]
  },
  {
   "cell_type": "code",
   "execution_count": 26,
   "id": "aa0569df",
   "metadata": {},
   "outputs": [
    {
     "data": {
      "text/plain": [
       "(146144, 2)"
      ]
     },
     "execution_count": 26,
     "metadata": {},
     "output_type": "execute_result"
    }
   ],
   "source": [
    "# Dropping the 'writers' column from crew_df\n",
    "crew_df.drop('writers',axis = 1,inplace = True)\n",
    "crew_df.shape # checking the number of columns"
   ]
  },
  {
   "cell_type": "code",
   "execution_count": 27,
   "id": "1ec69504",
   "metadata": {},
   "outputs": [
    {
     "data": {
      "text/plain": [
       "tconst       0\n",
       "directors    0\n",
       "dtype: int64"
      ]
     },
     "execution_count": 27,
     "metadata": {},
     "output_type": "execute_result"
    }
   ],
   "source": [
    "# Removing the missing values from the 'directors' column\n",
    "crew_df.dropna(inplace = True)\n",
    "crew_df.isna().sum() #checking for missing values"
   ]
  },
  {
   "cell_type": "markdown",
   "id": "aca27c91",
   "metadata": {},
   "source": [
    "The dataset now has no missing values"
   ]
  },
  {
   "cell_type": "code",
   "execution_count": 28,
   "id": "a78ddbae",
   "metadata": {},
   "outputs": [
    {
     "data": {
      "text/plain": [
       "0"
      ]
     },
     "execution_count": 28,
     "metadata": {},
     "output_type": "execute_result"
    }
   ],
   "source": [
    "# Checking for duplicates in the crew_df\n",
    "# Subset is set to the movie ids i.e tconst\n",
    "crew_df.duplicated(subset = 'tconst').sum()"
   ]
  },
  {
   "cell_type": "markdown",
   "id": "54b67d5c",
   "metadata": {},
   "source": [
    "The crew dataset contains no duplicates"
   ]
  },
  {
   "cell_type": "code",
   "execution_count": 29,
   "id": "fc7255bd",
   "metadata": {},
   "outputs": [
    {
     "data": {
      "text/plain": [
       "tconst       object\n",
       "directors    object\n",
       "dtype: object"
      ]
     },
     "execution_count": 29,
     "metadata": {},
     "output_type": "execute_result"
    }
   ],
   "source": [
    "# Checking the data types in the crew_df\n",
    "crew_df.dtypes"
   ]
  },
  {
   "cell_type": "markdown",
   "id": "7bdaf4d6",
   "metadata": {},
   "source": [
    "The data types of the two remaining columns are as expected"
   ]
  },
  {
   "cell_type": "code",
   "execution_count": 30,
   "id": "0bc7805d",
   "metadata": {},
   "outputs": [
    {
     "data": {
      "text/plain": [
       "Unnamed: 0           0\n",
       "genre_ids            0\n",
       "id                   0\n",
       "original_language    0\n",
       "original_title       0\n",
       "popularity           0\n",
       "release_date         0\n",
       "title                0\n",
       "vote_average         0\n",
       "vote_count           0\n",
       "dtype: int64"
      ]
     },
     "execution_count": 30,
     "metadata": {},
     "output_type": "execute_result"
    }
   ],
   "source": [
    "# Checking for missing values in the tmdb_df \n",
    "tmdb_df.isna().sum()"
   ]
  },
  {
   "cell_type": "markdown",
   "id": "64248298",
   "metadata": {},
   "source": [
    "The dataset has no missing values"
   ]
  },
  {
   "cell_type": "code",
   "execution_count": 31,
   "id": "76ae969d",
   "metadata": {},
   "outputs": [
    {
     "data": {
      "text/plain": [
       "1020"
      ]
     },
     "execution_count": 31,
     "metadata": {},
     "output_type": "execute_result"
    }
   ],
   "source": [
    "# Checking for duplicates in the tmdb_df\n",
    "# Setting subset to id since they should be unique\n",
    "tmdb_df.duplicated(subset ='id').sum()"
   ]
  },
  {
   "cell_type": "code",
   "execution_count": 32,
   "id": "23751ef3",
   "metadata": {},
   "outputs": [
    {
     "data": {
      "text/plain": [
       "380718    3\n",
       "292086    3\n",
       "402448    3\n",
       "192137    3\n",
       "514791    3\n",
       "         ..\n",
       "174376    1\n",
       "221791    1\n",
       "160165    1\n",
       "250251    1\n",
       "309885    1\n",
       "Name: id, Length: 25497, dtype: int64"
      ]
     },
     "execution_count": 32,
     "metadata": {},
     "output_type": "execute_result"
    }
   ],
   "source": [
    "# Checking the number of unique values...items with duplicates will have a frequency greater than one\n",
    "tmdb_df['id'].value_counts()"
   ]
  },
  {
   "cell_type": "code",
   "execution_count": 33,
   "id": "85773afb",
   "metadata": {},
   "outputs": [
    {
     "data": {
      "text/html": [
       "<div>\n",
       "<style scoped>\n",
       "    .dataframe tbody tr th:only-of-type {\n",
       "        vertical-align: middle;\n",
       "    }\n",
       "\n",
       "    .dataframe tbody tr th {\n",
       "        vertical-align: top;\n",
       "    }\n",
       "\n",
       "    .dataframe thead th {\n",
       "        text-align: right;\n",
       "    }\n",
       "</style>\n",
       "<table border=\"1\" class=\"dataframe\">\n",
       "  <thead>\n",
       "    <tr style=\"text-align: right;\">\n",
       "      <th></th>\n",
       "      <th>Unnamed: 0</th>\n",
       "      <th>genre_ids</th>\n",
       "      <th>id</th>\n",
       "      <th>original_language</th>\n",
       "      <th>original_title</th>\n",
       "      <th>popularity</th>\n",
       "      <th>release_date</th>\n",
       "      <th>title</th>\n",
       "      <th>vote_average</th>\n",
       "      <th>vote_count</th>\n",
       "    </tr>\n",
       "  </thead>\n",
       "  <tbody>\n",
       "    <tr>\n",
       "      <th>17256</th>\n",
       "      <td>17256</td>\n",
       "      <td>[12, 35, 18, 10770]</td>\n",
       "      <td>380718</td>\n",
       "      <td>en</td>\n",
       "      <td>The Ultimate Legacy</td>\n",
       "      <td>0.6</td>\n",
       "      <td>2015-12-04</td>\n",
       "      <td>The Ultimate Legacy</td>\n",
       "      <td>3.8</td>\n",
       "      <td>6</td>\n",
       "    </tr>\n",
       "    <tr>\n",
       "      <th>20494</th>\n",
       "      <td>20494</td>\n",
       "      <td>[12, 35, 18, 10770]</td>\n",
       "      <td>380718</td>\n",
       "      <td>en</td>\n",
       "      <td>The Ultimate Legacy</td>\n",
       "      <td>0.6</td>\n",
       "      <td>2015-12-04</td>\n",
       "      <td>The Ultimate Legacy</td>\n",
       "      <td>3.8</td>\n",
       "      <td>6</td>\n",
       "    </tr>\n",
       "    <tr>\n",
       "      <th>23724</th>\n",
       "      <td>23724</td>\n",
       "      <td>[12, 35, 18, 10770]</td>\n",
       "      <td>380718</td>\n",
       "      <td>en</td>\n",
       "      <td>The Ultimate Legacy</td>\n",
       "      <td>0.6</td>\n",
       "      <td>2015-12-04</td>\n",
       "      <td>The Ultimate Legacy</td>\n",
       "      <td>3.8</td>\n",
       "      <td>6</td>\n",
       "    </tr>\n",
       "  </tbody>\n",
       "</table>\n",
       "</div>"
      ],
      "text/plain": [
       "       Unnamed: 0            genre_ids      id original_language  \\\n",
       "17256       17256  [12, 35, 18, 10770]  380718                en   \n",
       "20494       20494  [12, 35, 18, 10770]  380718                en   \n",
       "23724       23724  [12, 35, 18, 10770]  380718                en   \n",
       "\n",
       "            original_title  popularity release_date                title  \\\n",
       "17256  The Ultimate Legacy         0.6   2015-12-04  The Ultimate Legacy   \n",
       "20494  The Ultimate Legacy         0.6   2015-12-04  The Ultimate Legacy   \n",
       "23724  The Ultimate Legacy         0.6   2015-12-04  The Ultimate Legacy   \n",
       "\n",
       "       vote_average  vote_count  \n",
       "17256           3.8           6  \n",
       "20494           3.8           6  \n",
       "23724           3.8           6  "
      ]
     },
     "execution_count": 33,
     "metadata": {},
     "output_type": "execute_result"
    }
   ],
   "source": [
    "# Filtering to obtain the datasets that have an id of 380718\n",
    "tmdb_df[tmdb_df['id'] ==380718 ]"
   ]
  },
  {
   "cell_type": "markdown",
   "id": "3d056935",
   "metadata": {},
   "source": [
    "From the data_set above it can be stated that the movies with the same id are the same since the release_dates are also the same."
   ]
  },
  {
   "cell_type": "code",
   "execution_count": 34,
   "id": "5048c561",
   "metadata": {},
   "outputs": [
    {
     "data": {
      "text/plain": [
       "0"
      ]
     },
     "execution_count": 34,
     "metadata": {},
     "output_type": "execute_result"
    }
   ],
   "source": [
    "# Droping the duplicates based on the id\n",
    "tmdb_df.drop_duplicates(subset = 'id',inplace = True)\n",
    "tmdb_df.duplicated(subset ='id').sum() # Checking for duplicates"
   ]
  },
  {
   "cell_type": "code",
   "execution_count": 35,
   "id": "f9cf6a73",
   "metadata": {},
   "outputs": [],
   "source": [
    "# Dropping the 'Unnamed: 0' columns from the tmdb_df\n",
    "tmdb_df.drop('Unnamed: 0',axis = 1,inplace =  True)"
   ]
  },
  {
   "cell_type": "code",
   "execution_count": 36,
   "id": "0263cfcd",
   "metadata": {},
   "outputs": [
    {
     "data": {
      "text/plain": [
       "genre_ids             object\n",
       "id                     int64\n",
       "original_language     object\n",
       "original_title        object\n",
       "popularity           float64\n",
       "release_date          object\n",
       "title                 object\n",
       "vote_average         float64\n",
       "vote_count             int64\n",
       "dtype: object"
      ]
     },
     "execution_count": 36,
     "metadata": {},
     "output_type": "execute_result"
    }
   ],
   "source": [
    "# Checking the data types in tmdb_df\n",
    "tmdb_df.dtypes"
   ]
  },
  {
   "cell_type": "markdown",
   "id": "040810f7",
   "metadata": {},
   "source": [
    "The data types match the expectations for each column"
   ]
  },
  {
   "cell_type": "markdown",
   "id": "1f81d5a1",
   "metadata": {},
   "source": [
    "### Checking for placeholders "
   ]
  },
  {
   "cell_type": "markdown",
   "id": "28a32792",
   "metadata": {},
   "source": [
    "We will observe the descriptive statistics of the various datasets...most place holders are ususally values that are peculiar in a dataset for instance having an year as 2500."
   ]
  },
  {
   "cell_type": "code",
   "execution_count": 37,
   "id": "13553e05",
   "metadata": {},
   "outputs": [
    {
     "data": {
      "text/html": [
       "<div>\n",
       "<style scoped>\n",
       "    .dataframe tbody tr th:only-of-type {\n",
       "        vertical-align: middle;\n",
       "    }\n",
       "\n",
       "    .dataframe tbody tr th {\n",
       "        vertical-align: top;\n",
       "    }\n",
       "\n",
       "    .dataframe thead th {\n",
       "        text-align: right;\n",
       "    }\n",
       "</style>\n",
       "<table border=\"1\" class=\"dataframe\">\n",
       "  <thead>\n",
       "    <tr style=\"text-align: right;\">\n",
       "      <th></th>\n",
       "      <th>start_year</th>\n",
       "      <th>runtime_minutes</th>\n",
       "    </tr>\n",
       "  </thead>\n",
       "  <tbody>\n",
       "    <tr>\n",
       "      <th>count</th>\n",
       "      <td>140734.000000</td>\n",
       "      <td>140734.000000</td>\n",
       "    </tr>\n",
       "    <tr>\n",
       "      <th>mean</th>\n",
       "      <td>2014.613945</td>\n",
       "      <td>86.246507</td>\n",
       "    </tr>\n",
       "    <tr>\n",
       "      <th>std</th>\n",
       "      <td>2.735566</td>\n",
       "      <td>149.934119</td>\n",
       "    </tr>\n",
       "    <tr>\n",
       "      <th>min</th>\n",
       "      <td>2010.000000</td>\n",
       "      <td>1.000000</td>\n",
       "    </tr>\n",
       "    <tr>\n",
       "      <th>25%</th>\n",
       "      <td>2012.000000</td>\n",
       "      <td>75.000000</td>\n",
       "    </tr>\n",
       "    <tr>\n",
       "      <th>50%</th>\n",
       "      <td>2015.000000</td>\n",
       "      <td>86.187247</td>\n",
       "    </tr>\n",
       "    <tr>\n",
       "      <th>75%</th>\n",
       "      <td>2017.000000</td>\n",
       "      <td>95.000000</td>\n",
       "    </tr>\n",
       "    <tr>\n",
       "      <th>max</th>\n",
       "      <td>2115.000000</td>\n",
       "      <td>51420.000000</td>\n",
       "    </tr>\n",
       "  </tbody>\n",
       "</table>\n",
       "</div>"
      ],
      "text/plain": [
       "          start_year  runtime_minutes\n",
       "count  140734.000000    140734.000000\n",
       "mean     2014.613945        86.246507\n",
       "std         2.735566       149.934119\n",
       "min      2010.000000         1.000000\n",
       "25%      2012.000000        75.000000\n",
       "50%      2015.000000        86.187247\n",
       "75%      2017.000000        95.000000\n",
       "max      2115.000000     51420.000000"
      ]
     },
     "execution_count": 37,
     "metadata": {},
     "output_type": "execute_result"
    }
   ],
   "source": [
    "# Checking for placeholders in title_basics dataset\n",
    "title_basics.describe()"
   ]
  },
  {
   "cell_type": "markdown",
   "id": "f087183a",
   "metadata": {},
   "source": [
    "The start_year has a maximum value of 2115..This is not normal since we are not even in that century. It can also be observed that the minimum and maximum runtime_minutes are 1 and 51420. It is wise to research further on the movies containing these runtime_minutes. \n",
    "- Dealing with the start_year column:"
   ]
  },
  {
   "cell_type": "code",
   "execution_count": 38,
   "id": "9257ab38",
   "metadata": {},
   "outputs": [
    {
     "data": {
      "text/html": [
       "<div>\n",
       "<style scoped>\n",
       "    .dataframe tbody tr th:only-of-type {\n",
       "        vertical-align: middle;\n",
       "    }\n",
       "\n",
       "    .dataframe tbody tr th {\n",
       "        vertical-align: top;\n",
       "    }\n",
       "\n",
       "    .dataframe thead th {\n",
       "        text-align: right;\n",
       "    }\n",
       "</style>\n",
       "<table border=\"1\" class=\"dataframe\">\n",
       "  <thead>\n",
       "    <tr style=\"text-align: right;\">\n",
       "      <th></th>\n",
       "      <th>tconst</th>\n",
       "      <th>primary_title</th>\n",
       "      <th>original_title</th>\n",
       "      <th>start_year</th>\n",
       "      <th>runtime_minutes</th>\n",
       "      <th>genres</th>\n",
       "    </tr>\n",
       "  </thead>\n",
       "  <tbody>\n",
       "    <tr>\n",
       "      <th>0</th>\n",
       "      <td>tt0063540</td>\n",
       "      <td>Sunghursh</td>\n",
       "      <td>Sunghursh</td>\n",
       "      <td>2013</td>\n",
       "      <td>175.000000</td>\n",
       "      <td>Action,Crime,Drama</td>\n",
       "    </tr>\n",
       "    <tr>\n",
       "      <th>1</th>\n",
       "      <td>tt0066787</td>\n",
       "      <td>One Day Before the Rainy Season</td>\n",
       "      <td>Ashad Ka Ek Din</td>\n",
       "      <td>2019</td>\n",
       "      <td>114.000000</td>\n",
       "      <td>Biography,Drama</td>\n",
       "    </tr>\n",
       "    <tr>\n",
       "      <th>2</th>\n",
       "      <td>tt0069049</td>\n",
       "      <td>The Other Side of the Wind</td>\n",
       "      <td>The Other Side of the Wind</td>\n",
       "      <td>2018</td>\n",
       "      <td>122.000000</td>\n",
       "      <td>Drama</td>\n",
       "    </tr>\n",
       "    <tr>\n",
       "      <th>3</th>\n",
       "      <td>tt0069204</td>\n",
       "      <td>Sabse Bada Sukh</td>\n",
       "      <td>Sabse Bada Sukh</td>\n",
       "      <td>2018</td>\n",
       "      <td>86.187247</td>\n",
       "      <td>Comedy,Drama</td>\n",
       "    </tr>\n",
       "    <tr>\n",
       "      <th>4</th>\n",
       "      <td>tt0100275</td>\n",
       "      <td>The Wandering Soap Opera</td>\n",
       "      <td>La Telenovela Errante</td>\n",
       "      <td>2017</td>\n",
       "      <td>80.000000</td>\n",
       "      <td>Comedy,Drama,Fantasy</td>\n",
       "    </tr>\n",
       "  </tbody>\n",
       "</table>\n",
       "</div>"
      ],
      "text/plain": [
       "      tconst                    primary_title              original_title  \\\n",
       "0  tt0063540                        Sunghursh                   Sunghursh   \n",
       "1  tt0066787  One Day Before the Rainy Season             Ashad Ka Ek Din   \n",
       "2  tt0069049       The Other Side of the Wind  The Other Side of the Wind   \n",
       "3  tt0069204                  Sabse Bada Sukh             Sabse Bada Sukh   \n",
       "4  tt0100275         The Wandering Soap Opera       La Telenovela Errante   \n",
       "\n",
       "   start_year  runtime_minutes                genres  \n",
       "0        2013       175.000000    Action,Crime,Drama  \n",
       "1        2019       114.000000       Biography,Drama  \n",
       "2        2018       122.000000                 Drama  \n",
       "3        2018        86.187247          Comedy,Drama  \n",
       "4        2017        80.000000  Comedy,Drama,Fantasy  "
      ]
     },
     "execution_count": 38,
     "metadata": {},
     "output_type": "execute_result"
    }
   ],
   "source": [
    "# Checking the title_basics to see what start_year represents\n",
    "title_basics.head()"
   ]
  },
  {
   "cell_type": "markdown",
   "id": "c8555662",
   "metadata": {},
   "source": [
    "From the IMDb website [here](https://www.imdb.com/title/tt0063540/releaseinfo/) it can be seen that the movie Sunghursh was released to the internet in the year 2013...therefore,the start year represents the release date"
   ]
  },
  {
   "cell_type": "code",
   "execution_count": 39,
   "id": "c674b00a",
   "metadata": {
    "scrolled": true
   },
   "outputs": [
    {
     "data": {
      "text/plain": [
       "89506     2115\n",
       "96592     2027\n",
       "2949      2026\n",
       "52213     2025\n",
       "105187    2024\n",
       "16337     2023\n",
       "106865    2023\n",
       "2483      2023\n",
       "130618    2022\n",
       "130616    2022\n",
       "948       2022\n",
       "2765      2022\n",
       "821       2022\n",
       "112960    2022\n",
       "82608     2022\n",
       "4451      2022\n",
       "4903      2022\n",
       "144423    2022\n",
       "2465      2022\n",
       "5340      2022\n",
       "134557    2022\n",
       "113854    2022\n",
       "4382      2022\n",
       "129337    2022\n",
       "3008      2022\n",
       "61851     2022\n",
       "105186    2022\n",
       "141435    2022\n",
       "1330      2022\n",
       "143910    2022\n",
       "138515    2022\n",
       "72206     2021\n",
       "3145      2021\n",
       "4115      2021\n",
       "115153    2021\n",
       "129910    2021\n",
       "82851     2021\n",
       "5654      2021\n",
       "3613      2021\n",
       "3710      2021\n",
       "4740      2021\n",
       "93        2021\n",
       "3850      2021\n",
       "3848      2021\n",
       "3144      2021\n",
       "3652      2021\n",
       "3526      2021\n",
       "3724      2021\n",
       "111225    2021\n",
       "4645      2021\n",
       "Name: start_year, dtype: int64"
      ]
     },
     "execution_count": 39,
     "metadata": {},
     "output_type": "execute_result"
    }
   ],
   "source": [
    "# Sorting the values in descending order and observing the data manually\n",
    "title_basics['start_year'].sort_values(ascending = False).head(50)"
   ]
  },
  {
   "cell_type": "code",
   "execution_count": 40,
   "id": "734de14e",
   "metadata": {},
   "outputs": [
    {
     "data": {
      "text/html": [
       "<div>\n",
       "<style scoped>\n",
       "    .dataframe tbody tr th:only-of-type {\n",
       "        vertical-align: middle;\n",
       "    }\n",
       "\n",
       "    .dataframe tbody tr th {\n",
       "        vertical-align: top;\n",
       "    }\n",
       "\n",
       "    .dataframe thead th {\n",
       "        text-align: right;\n",
       "    }\n",
       "</style>\n",
       "<table border=\"1\" class=\"dataframe\">\n",
       "  <thead>\n",
       "    <tr style=\"text-align: right;\">\n",
       "      <th></th>\n",
       "      <th>start_year</th>\n",
       "      <th>runtime_minutes</th>\n",
       "    </tr>\n",
       "  </thead>\n",
       "  <tbody>\n",
       "    <tr>\n",
       "      <th>count</th>\n",
       "      <td>140729.000000</td>\n",
       "      <td>140734.000000</td>\n",
       "    </tr>\n",
       "    <tr>\n",
       "      <th>mean</th>\n",
       "      <td>2014.612923</td>\n",
       "      <td>86.246507</td>\n",
       "    </tr>\n",
       "    <tr>\n",
       "      <th>std</th>\n",
       "      <td>2.721869</td>\n",
       "      <td>149.934119</td>\n",
       "    </tr>\n",
       "    <tr>\n",
       "      <th>min</th>\n",
       "      <td>2010.000000</td>\n",
       "      <td>1.000000</td>\n",
       "    </tr>\n",
       "    <tr>\n",
       "      <th>25%</th>\n",
       "      <td>2012.000000</td>\n",
       "      <td>75.000000</td>\n",
       "    </tr>\n",
       "    <tr>\n",
       "      <th>50%</th>\n",
       "      <td>2015.000000</td>\n",
       "      <td>86.187247</td>\n",
       "    </tr>\n",
       "    <tr>\n",
       "      <th>75%</th>\n",
       "      <td>2017.000000</td>\n",
       "      <td>95.000000</td>\n",
       "    </tr>\n",
       "    <tr>\n",
       "      <th>max</th>\n",
       "      <td>2023.000000</td>\n",
       "      <td>51420.000000</td>\n",
       "    </tr>\n",
       "  </tbody>\n",
       "</table>\n",
       "</div>"
      ],
      "text/plain": [
       "          start_year  runtime_minutes\n",
       "count  140729.000000    140734.000000\n",
       "mean     2014.612923        86.246507\n",
       "std         2.721869       149.934119\n",
       "min      2010.000000         1.000000\n",
       "25%      2012.000000        75.000000\n",
       "50%      2015.000000        86.187247\n",
       "75%      2017.000000        95.000000\n",
       "max      2023.000000     51420.000000"
      ]
     },
     "execution_count": 40,
     "metadata": {},
     "output_type": "execute_result"
    }
   ],
   "source": [
    "# Filtering the data to remain with normal start_year....from 2023 and below \n",
    "title_basics['start_year'] = title_basics['start_year'].loc[title_basics['start_year']<= 2023]\n",
    "title_basics.describe() # Exploring the descriptive statistics"
   ]
  },
  {
   "cell_type": "markdown",
   "id": "f5e6a6fa",
   "metadata": {},
   "source": [
    "- Dealing with the column 'runtime_minutes'"
   ]
  },
  {
   "cell_type": "code",
   "execution_count": 41,
   "id": "ebdd0175",
   "metadata": {},
   "outputs": [
    {
     "data": {
      "text/html": [
       "<div>\n",
       "<style scoped>\n",
       "    .dataframe tbody tr th:only-of-type {\n",
       "        vertical-align: middle;\n",
       "    }\n",
       "\n",
       "    .dataframe tbody tr th {\n",
       "        vertical-align: top;\n",
       "    }\n",
       "\n",
       "    .dataframe thead th {\n",
       "        text-align: right;\n",
       "    }\n",
       "</style>\n",
       "<table border=\"1\" class=\"dataframe\">\n",
       "  <thead>\n",
       "    <tr style=\"text-align: right;\">\n",
       "      <th></th>\n",
       "      <th>tconst</th>\n",
       "      <th>primary_title</th>\n",
       "      <th>original_title</th>\n",
       "      <th>start_year</th>\n",
       "      <th>runtime_minutes</th>\n",
       "      <th>genres</th>\n",
       "    </tr>\n",
       "  </thead>\n",
       "  <tbody>\n",
       "    <tr>\n",
       "      <th>2570</th>\n",
       "      <td>tt10265824</td>\n",
       "      <td>Lamentation For Little Girls Who Are In Love W...</td>\n",
       "      <td>Lamentation For Little Girls Who Are In Love W...</td>\n",
       "      <td>2019.0</td>\n",
       "      <td>1.0</td>\n",
       "      <td>Animation</td>\n",
       "    </tr>\n",
       "    <tr>\n",
       "      <th>3298</th>\n",
       "      <td>tt10326116</td>\n",
       "      <td>Happy New Year</td>\n",
       "      <td>Happy New Year</td>\n",
       "      <td>2019.0</td>\n",
       "      <td>1.0</td>\n",
       "      <td>Animation</td>\n",
       "    </tr>\n",
       "    <tr>\n",
       "      <th>22903</th>\n",
       "      <td>tt1935926</td>\n",
       "      <td>Tierra</td>\n",
       "      <td>Tierra</td>\n",
       "      <td>2010.0</td>\n",
       "      <td>1.0</td>\n",
       "      <td>Documentary,Family</td>\n",
       "    </tr>\n",
       "    <tr>\n",
       "      <th>54307</th>\n",
       "      <td>tt3194766</td>\n",
       "      <td>Guerreiros da paz e poesia: It All Depends on Us</td>\n",
       "      <td>Guerreiros da paz e poesia: It All Depends on Us</td>\n",
       "      <td>2013.0</td>\n",
       "      <td>1.0</td>\n",
       "      <td>Documentary,Music</td>\n",
       "    </tr>\n",
       "    <tr>\n",
       "      <th>57140</th>\n",
       "      <td>tt3331660</td>\n",
       "      <td>Shark Sanctuary</td>\n",
       "      <td>Shark Sanctuary</td>\n",
       "      <td>2012.0</td>\n",
       "      <td>1.0</td>\n",
       "      <td>Adventure,Documentary</td>\n",
       "    </tr>\n",
       "  </tbody>\n",
       "</table>\n",
       "</div>"
      ],
      "text/plain": [
       "           tconst                                      primary_title  \\\n",
       "2570   tt10265824  Lamentation For Little Girls Who Are In Love W...   \n",
       "3298   tt10326116                                     Happy New Year   \n",
       "22903   tt1935926                                             Tierra   \n",
       "54307   tt3194766   Guerreiros da paz e poesia: It All Depends on Us   \n",
       "57140   tt3331660                                    Shark Sanctuary   \n",
       "\n",
       "                                          original_title  start_year  \\\n",
       "2570   Lamentation For Little Girls Who Are In Love W...      2019.0   \n",
       "3298                                      Happy New Year      2019.0   \n",
       "22903                                             Tierra      2010.0   \n",
       "54307   Guerreiros da paz e poesia: It All Depends on Us      2013.0   \n",
       "57140                                    Shark Sanctuary      2012.0   \n",
       "\n",
       "       runtime_minutes                 genres  \n",
       "2570               1.0              Animation  \n",
       "3298               1.0              Animation  \n",
       "22903              1.0     Documentary,Family  \n",
       "54307              1.0      Documentary,Music  \n",
       "57140              1.0  Adventure,Documentary  "
      ]
     },
     "execution_count": 41,
     "metadata": {},
     "output_type": "execute_result"
    }
   ],
   "source": [
    "title_basics.loc[title_basics['runtime_minutes']==1].head()"
   ]
  },
  {
   "cell_type": "markdown",
   "id": "13e209b9",
   "metadata": {},
   "source": [
    "Taking the movie 'Lamentation For Little Girls Who Are In Love With Unobtanium' from the primary title and researching on its length from [IMDb](https://www.imdb.com/title/tt10265824/) it can be confirmed that the length is just one minute."
   ]
  },
  {
   "cell_type": "code",
   "execution_count": 42,
   "id": "49a69f9d",
   "metadata": {},
   "outputs": [
    {
     "data": {
      "text/html": [
       "<div>\n",
       "<style scoped>\n",
       "    .dataframe tbody tr th:only-of-type {\n",
       "        vertical-align: middle;\n",
       "    }\n",
       "\n",
       "    .dataframe tbody tr th {\n",
       "        vertical-align: top;\n",
       "    }\n",
       "\n",
       "    .dataframe thead th {\n",
       "        text-align: right;\n",
       "    }\n",
       "</style>\n",
       "<table border=\"1\" class=\"dataframe\">\n",
       "  <thead>\n",
       "    <tr style=\"text-align: right;\">\n",
       "      <th></th>\n",
       "      <th>tconst</th>\n",
       "      <th>primary_title</th>\n",
       "      <th>original_title</th>\n",
       "      <th>start_year</th>\n",
       "      <th>runtime_minutes</th>\n",
       "      <th>genres</th>\n",
       "    </tr>\n",
       "  </thead>\n",
       "  <tbody>\n",
       "    <tr>\n",
       "      <th>132389</th>\n",
       "      <td>tt8273150</td>\n",
       "      <td>Logistics</td>\n",
       "      <td>Logistics</td>\n",
       "      <td>2012.0</td>\n",
       "      <td>51420.0</td>\n",
       "      <td>Documentary</td>\n",
       "    </tr>\n",
       "  </tbody>\n",
       "</table>\n",
       "</div>"
      ],
      "text/plain": [
       "           tconst primary_title original_title  start_year  runtime_minutes  \\\n",
       "132389  tt8273150     Logistics      Logistics      2012.0          51420.0   \n",
       "\n",
       "             genres  \n",
       "132389  Documentary  "
      ]
     },
     "execution_count": 42,
     "metadata": {},
     "output_type": "execute_result"
    }
   ],
   "source": [
    "# Investigating the movie with the highest runtime as seen above\n",
    "title_basics.loc[title_basics['runtime_minutes']==51420].head()"
   ]
  },
  {
   "cell_type": "markdown",
   "id": "a37bcce6",
   "metadata": {},
   "source": [
    "The movie is a documentary and its length increases as more episodes are produced. The data is therefore valid"
   ]
  },
  {
   "cell_type": "code",
   "execution_count": 43,
   "id": "3403705b",
   "metadata": {},
   "outputs": [
    {
     "data": {
      "text/html": [
       "<div>\n",
       "<style scoped>\n",
       "    .dataframe tbody tr th:only-of-type {\n",
       "        vertical-align: middle;\n",
       "    }\n",
       "\n",
       "    .dataframe tbody tr th {\n",
       "        vertical-align: top;\n",
       "    }\n",
       "\n",
       "    .dataframe thead th {\n",
       "        text-align: right;\n",
       "    }\n",
       "</style>\n",
       "<table border=\"1\" class=\"dataframe\">\n",
       "  <thead>\n",
       "    <tr style=\"text-align: right;\">\n",
       "      <th></th>\n",
       "      <th>averagerating</th>\n",
       "      <th>numvotes</th>\n",
       "    </tr>\n",
       "  </thead>\n",
       "  <tbody>\n",
       "    <tr>\n",
       "      <th>count</th>\n",
       "      <td>73856.0</td>\n",
       "      <td>73856.0</td>\n",
       "    </tr>\n",
       "    <tr>\n",
       "      <th>mean</th>\n",
       "      <td>6.0</td>\n",
       "      <td>3524.0</td>\n",
       "    </tr>\n",
       "    <tr>\n",
       "      <th>std</th>\n",
       "      <td>1.0</td>\n",
       "      <td>30294.0</td>\n",
       "    </tr>\n",
       "    <tr>\n",
       "      <th>min</th>\n",
       "      <td>1.0</td>\n",
       "      <td>5.0</td>\n",
       "    </tr>\n",
       "    <tr>\n",
       "      <th>25%</th>\n",
       "      <td>6.0</td>\n",
       "      <td>14.0</td>\n",
       "    </tr>\n",
       "    <tr>\n",
       "      <th>50%</th>\n",
       "      <td>6.0</td>\n",
       "      <td>49.0</td>\n",
       "    </tr>\n",
       "    <tr>\n",
       "      <th>75%</th>\n",
       "      <td>7.0</td>\n",
       "      <td>282.0</td>\n",
       "    </tr>\n",
       "    <tr>\n",
       "      <th>max</th>\n",
       "      <td>10.0</td>\n",
       "      <td>1841066.0</td>\n",
       "    </tr>\n",
       "  </tbody>\n",
       "</table>\n",
       "</div>"
      ],
      "text/plain": [
       "       averagerating   numvotes\n",
       "count        73856.0    73856.0\n",
       "mean             6.0     3524.0\n",
       "std              1.0    30294.0\n",
       "min              1.0        5.0\n",
       "25%              6.0       14.0\n",
       "50%              6.0       49.0\n",
       "75%              7.0      282.0\n",
       "max             10.0  1841066.0"
      ]
     },
     "execution_count": 43,
     "metadata": {},
     "output_type": "execute_result"
    }
   ],
   "source": [
    "# Dealing with ratings_df\n",
    "ratings_df.describe().round()"
   ]
  },
  {
   "cell_type": "markdown",
   "id": "591392b3",
   "metadata": {},
   "source": [
    "Everything is as expected "
   ]
  },
  {
   "cell_type": "code",
   "execution_count": 44,
   "id": "3bed9585",
   "metadata": {},
   "outputs": [
    {
     "data": {
      "text/html": [
       "<div>\n",
       "<style scoped>\n",
       "    .dataframe tbody tr th:only-of-type {\n",
       "        vertical-align: middle;\n",
       "    }\n",
       "\n",
       "    .dataframe tbody tr th {\n",
       "        vertical-align: top;\n",
       "    }\n",
       "\n",
       "    .dataframe thead th {\n",
       "        text-align: right;\n",
       "    }\n",
       "</style>\n",
       "<table border=\"1\" class=\"dataframe\">\n",
       "  <thead>\n",
       "    <tr style=\"text-align: right;\">\n",
       "      <th></th>\n",
       "      <th>id</th>\n",
       "    </tr>\n",
       "  </thead>\n",
       "  <tbody>\n",
       "    <tr>\n",
       "      <th>count</th>\n",
       "      <td>5782.000000</td>\n",
       "    </tr>\n",
       "    <tr>\n",
       "      <th>mean</th>\n",
       "      <td>50.372363</td>\n",
       "    </tr>\n",
       "    <tr>\n",
       "      <th>std</th>\n",
       "      <td>28.821076</td>\n",
       "    </tr>\n",
       "    <tr>\n",
       "      <th>min</th>\n",
       "      <td>1.000000</td>\n",
       "    </tr>\n",
       "    <tr>\n",
       "      <th>25%</th>\n",
       "      <td>25.000000</td>\n",
       "    </tr>\n",
       "    <tr>\n",
       "      <th>50%</th>\n",
       "      <td>50.000000</td>\n",
       "    </tr>\n",
       "    <tr>\n",
       "      <th>75%</th>\n",
       "      <td>75.000000</td>\n",
       "    </tr>\n",
       "    <tr>\n",
       "      <th>max</th>\n",
       "      <td>100.000000</td>\n",
       "    </tr>\n",
       "  </tbody>\n",
       "</table>\n",
       "</div>"
      ],
      "text/plain": [
       "                id\n",
       "count  5782.000000\n",
       "mean     50.372363\n",
       "std      28.821076\n",
       "min       1.000000\n",
       "25%      25.000000\n",
       "50%      50.000000\n",
       "75%      75.000000\n",
       "max     100.000000"
      ]
     },
     "execution_count": 44,
     "metadata": {},
     "output_type": "execute_result"
    }
   ],
   "source": [
    "# Dealing numbers_df\n",
    "numbers_df.describe()"
   ]
  },
  {
   "cell_type": "markdown",
   "id": "9cc7c4f3",
   "metadata": {},
   "source": [
    "Everything is as expected...the id  column wont be of use in this project."
   ]
  },
  {
   "cell_type": "code",
   "execution_count": 45,
   "id": "bd0a8085",
   "metadata": {},
   "outputs": [
    {
     "data": {
      "text/html": [
       "<div>\n",
       "<style scoped>\n",
       "    .dataframe tbody tr th:only-of-type {\n",
       "        vertical-align: middle;\n",
       "    }\n",
       "\n",
       "    .dataframe tbody tr th {\n",
       "        vertical-align: top;\n",
       "    }\n",
       "\n",
       "    .dataframe thead th {\n",
       "        text-align: right;\n",
       "    }\n",
       "</style>\n",
       "<table border=\"1\" class=\"dataframe\">\n",
       "  <thead>\n",
       "    <tr style=\"text-align: right;\">\n",
       "      <th></th>\n",
       "      <th>tconst</th>\n",
       "      <th>directors</th>\n",
       "    </tr>\n",
       "  </thead>\n",
       "  <tbody>\n",
       "    <tr>\n",
       "      <th>count</th>\n",
       "      <td>140417</td>\n",
       "      <td>140417</td>\n",
       "    </tr>\n",
       "    <tr>\n",
       "      <th>unique</th>\n",
       "      <td>140417</td>\n",
       "      <td>98525</td>\n",
       "    </tr>\n",
       "    <tr>\n",
       "      <th>top</th>\n",
       "      <td>tt0285252</td>\n",
       "      <td>nm3266654</td>\n",
       "    </tr>\n",
       "    <tr>\n",
       "      <th>freq</th>\n",
       "      <td>1</td>\n",
       "      <td>62</td>\n",
       "    </tr>\n",
       "  </tbody>\n",
       "</table>\n",
       "</div>"
      ],
      "text/plain": [
       "           tconst  directors\n",
       "count      140417     140417\n",
       "unique     140417      98525\n",
       "top     tt0285252  nm3266654\n",
       "freq            1         62"
      ]
     },
     "execution_count": 45,
     "metadata": {},
     "output_type": "execute_result"
    }
   ],
   "source": [
    "# Dealing crew_df\n",
    "crew_df.describe()"
   ]
  },
  {
   "cell_type": "markdown",
   "id": "1cc1d1e1",
   "metadata": {},
   "source": [
    "Everything is as expected...one director can direct a number of movies thats why the frequency is 62"
   ]
  },
  {
   "cell_type": "code",
   "execution_count": 46,
   "id": "e8c7898e",
   "metadata": {},
   "outputs": [
    {
     "data": {
      "text/html": [
       "<div>\n",
       "<style scoped>\n",
       "    .dataframe tbody tr th:only-of-type {\n",
       "        vertical-align: middle;\n",
       "    }\n",
       "\n",
       "    .dataframe tbody tr th {\n",
       "        vertical-align: top;\n",
       "    }\n",
       "\n",
       "    .dataframe thead th {\n",
       "        text-align: right;\n",
       "    }\n",
       "</style>\n",
       "<table border=\"1\" class=\"dataframe\">\n",
       "  <thead>\n",
       "    <tr style=\"text-align: right;\">\n",
       "      <th></th>\n",
       "      <th>id</th>\n",
       "      <th>popularity</th>\n",
       "      <th>vote_average</th>\n",
       "      <th>vote_count</th>\n",
       "    </tr>\n",
       "  </thead>\n",
       "  <tbody>\n",
       "    <tr>\n",
       "      <th>count</th>\n",
       "      <td>25497.000000</td>\n",
       "      <td>25497.000000</td>\n",
       "      <td>25497.000000</td>\n",
       "      <td>25497.000000</td>\n",
       "    </tr>\n",
       "    <tr>\n",
       "      <th>mean</th>\n",
       "      <td>294203.960505</td>\n",
       "      <td>3.043279</td>\n",
       "      <td>5.979331</td>\n",
       "      <td>178.795780</td>\n",
       "    </tr>\n",
       "    <tr>\n",
       "      <th>std</th>\n",
       "      <td>154690.249660</td>\n",
       "      <td>4.261045</td>\n",
       "      <td>1.866094</td>\n",
       "      <td>914.150311</td>\n",
       "    </tr>\n",
       "    <tr>\n",
       "      <th>min</th>\n",
       "      <td>27.000000</td>\n",
       "      <td>0.600000</td>\n",
       "      <td>0.000000</td>\n",
       "      <td>1.000000</td>\n",
       "    </tr>\n",
       "    <tr>\n",
       "      <th>25%</th>\n",
       "      <td>154770.000000</td>\n",
       "      <td>0.600000</td>\n",
       "      <td>5.000000</td>\n",
       "      <td>1.000000</td>\n",
       "    </tr>\n",
       "    <tr>\n",
       "      <th>50%</th>\n",
       "      <td>307125.000000</td>\n",
       "      <td>1.321000</td>\n",
       "      <td>6.000000</td>\n",
       "      <td>5.000000</td>\n",
       "    </tr>\n",
       "    <tr>\n",
       "      <th>75%</th>\n",
       "      <td>420707.000000</td>\n",
       "      <td>3.490000</td>\n",
       "      <td>7.000000</td>\n",
       "      <td>25.000000</td>\n",
       "    </tr>\n",
       "    <tr>\n",
       "      <th>max</th>\n",
       "      <td>608444.000000</td>\n",
       "      <td>80.773000</td>\n",
       "      <td>10.000000</td>\n",
       "      <td>22186.000000</td>\n",
       "    </tr>\n",
       "  </tbody>\n",
       "</table>\n",
       "</div>"
      ],
      "text/plain": [
       "                  id    popularity  vote_average    vote_count\n",
       "count   25497.000000  25497.000000  25497.000000  25497.000000\n",
       "mean   294203.960505      3.043279      5.979331    178.795780\n",
       "std    154690.249660      4.261045      1.866094    914.150311\n",
       "min        27.000000      0.600000      0.000000      1.000000\n",
       "25%    154770.000000      0.600000      5.000000      1.000000\n",
       "50%    307125.000000      1.321000      6.000000      5.000000\n",
       "75%    420707.000000      3.490000      7.000000     25.000000\n",
       "max    608444.000000     80.773000     10.000000  22186.000000"
      ]
     },
     "execution_count": 46,
     "metadata": {},
     "output_type": "execute_result"
    }
   ],
   "source": [
    "# Dealing with tmdb_df ftom The Movies DB\n",
    "tmdb_df.describe()"
   ]
  },
  {
   "cell_type": "markdown",
   "id": "5c99525d",
   "metadata": {},
   "source": [
    "Everything is as expected"
   ]
  },
  {
   "cell_type": "markdown",
   "id": "415e9ce1",
   "metadata": {},
   "source": [
    "###  Note on outliers"
   ]
  },
  {
   "cell_type": "markdown",
   "id": "31afc21e",
   "metadata": {},
   "source": [
    "- The outliers in these datasets are true outliers...that is,they form part of the natural variation. For instance the runtime_minutes of 51420 from the title_basics dataset. The datasets can now be used for analysis."
   ]
  },
  {
   "cell_type": "markdown",
   "id": "401353d2",
   "metadata": {},
   "source": [
    "Taking another look at the numbers_df"
   ]
  },
  {
   "cell_type": "code",
   "execution_count": 47,
   "id": "2ceb584b",
   "metadata": {},
   "outputs": [
    {
     "data": {
      "text/html": [
       "<div>\n",
       "<style scoped>\n",
       "    .dataframe tbody tr th:only-of-type {\n",
       "        vertical-align: middle;\n",
       "    }\n",
       "\n",
       "    .dataframe tbody tr th {\n",
       "        vertical-align: top;\n",
       "    }\n",
       "\n",
       "    .dataframe thead th {\n",
       "        text-align: right;\n",
       "    }\n",
       "</style>\n",
       "<table border=\"1\" class=\"dataframe\">\n",
       "  <thead>\n",
       "    <tr style=\"text-align: right;\">\n",
       "      <th></th>\n",
       "      <th>id</th>\n",
       "      <th>release_date</th>\n",
       "      <th>movie</th>\n",
       "      <th>production_budget</th>\n",
       "      <th>domestic_gross</th>\n",
       "      <th>worldwide_gross</th>\n",
       "    </tr>\n",
       "  </thead>\n",
       "  <tbody>\n",
       "    <tr>\n",
       "      <th>0</th>\n",
       "      <td>1</td>\n",
       "      <td>Dec 18, 2009</td>\n",
       "      <td>Avatar</td>\n",
       "      <td>$425,000,000</td>\n",
       "      <td>$760,507,625</td>\n",
       "      <td>$2,776,345,279</td>\n",
       "    </tr>\n",
       "    <tr>\n",
       "      <th>1</th>\n",
       "      <td>2</td>\n",
       "      <td>May 20, 2011</td>\n",
       "      <td>Pirates of the Caribbean: On Stranger Tides</td>\n",
       "      <td>$410,600,000</td>\n",
       "      <td>$241,063,875</td>\n",
       "      <td>$1,045,663,875</td>\n",
       "    </tr>\n",
       "    <tr>\n",
       "      <th>2</th>\n",
       "      <td>3</td>\n",
       "      <td>Jun 7, 2019</td>\n",
       "      <td>Dark Phoenix</td>\n",
       "      <td>$350,000,000</td>\n",
       "      <td>$42,762,350</td>\n",
       "      <td>$149,762,350</td>\n",
       "    </tr>\n",
       "    <tr>\n",
       "      <th>3</th>\n",
       "      <td>4</td>\n",
       "      <td>May 1, 2015</td>\n",
       "      <td>Avengers: Age of Ultron</td>\n",
       "      <td>$330,600,000</td>\n",
       "      <td>$459,005,868</td>\n",
       "      <td>$1,403,013,963</td>\n",
       "    </tr>\n",
       "    <tr>\n",
       "      <th>4</th>\n",
       "      <td>5</td>\n",
       "      <td>Dec 15, 2017</td>\n",
       "      <td>Star Wars Ep. VIII: The Last Jedi</td>\n",
       "      <td>$317,000,000</td>\n",
       "      <td>$620,181,382</td>\n",
       "      <td>$1,316,721,747</td>\n",
       "    </tr>\n",
       "  </tbody>\n",
       "</table>\n",
       "</div>"
      ],
      "text/plain": [
       "   id  release_date                                        movie  \\\n",
       "0   1  Dec 18, 2009                                       Avatar   \n",
       "1   2  May 20, 2011  Pirates of the Caribbean: On Stranger Tides   \n",
       "2   3   Jun 7, 2019                                 Dark Phoenix   \n",
       "3   4   May 1, 2015                      Avengers: Age of Ultron   \n",
       "4   5  Dec 15, 2017            Star Wars Ep. VIII: The Last Jedi   \n",
       "\n",
       "  production_budget domestic_gross worldwide_gross  \n",
       "0      $425,000,000   $760,507,625  $2,776,345,279  \n",
       "1      $410,600,000   $241,063,875  $1,045,663,875  \n",
       "2      $350,000,000    $42,762,350    $149,762,350  \n",
       "3      $330,600,000   $459,005,868  $1,403,013,963  \n",
       "4      $317,000,000   $620,181,382  $1,316,721,747  "
      ]
     },
     "execution_count": 47,
     "metadata": {},
     "output_type": "execute_result"
    }
   ],
   "source": [
    "numbers_df.head()"
   ]
  },
  {
   "cell_type": "code",
   "execution_count": 48,
   "id": "de5c1a0a",
   "metadata": {},
   "outputs": [
    {
     "data": {
      "text/html": [
       "<div>\n",
       "<style scoped>\n",
       "    .dataframe tbody tr th:only-of-type {\n",
       "        vertical-align: middle;\n",
       "    }\n",
       "\n",
       "    .dataframe tbody tr th {\n",
       "        vertical-align: top;\n",
       "    }\n",
       "\n",
       "    .dataframe thead th {\n",
       "        text-align: right;\n",
       "    }\n",
       "</style>\n",
       "<table border=\"1\" class=\"dataframe\">\n",
       "  <thead>\n",
       "    <tr style=\"text-align: right;\">\n",
       "      <th></th>\n",
       "      <th>id</th>\n",
       "      <th>release_date</th>\n",
       "      <th>movie</th>\n",
       "      <th>production_budget</th>\n",
       "      <th>domestic_gross</th>\n",
       "      <th>worldwide_gross</th>\n",
       "    </tr>\n",
       "  </thead>\n",
       "  <tbody>\n",
       "    <tr>\n",
       "      <th>0</th>\n",
       "      <td>1</td>\n",
       "      <td>2009-12-18</td>\n",
       "      <td>Avatar</td>\n",
       "      <td>$425,000,000</td>\n",
       "      <td>$760,507,625</td>\n",
       "      <td>$2,776,345,279</td>\n",
       "    </tr>\n",
       "    <tr>\n",
       "      <th>1</th>\n",
       "      <td>2</td>\n",
       "      <td>2011-05-20</td>\n",
       "      <td>Pirates of the Caribbean: On Stranger Tides</td>\n",
       "      <td>$410,600,000</td>\n",
       "      <td>$241,063,875</td>\n",
       "      <td>$1,045,663,875</td>\n",
       "    </tr>\n",
       "    <tr>\n",
       "      <th>2</th>\n",
       "      <td>3</td>\n",
       "      <td>2019-06-07</td>\n",
       "      <td>Dark Phoenix</td>\n",
       "      <td>$350,000,000</td>\n",
       "      <td>$42,762,350</td>\n",
       "      <td>$149,762,350</td>\n",
       "    </tr>\n",
       "    <tr>\n",
       "      <th>3</th>\n",
       "      <td>4</td>\n",
       "      <td>2015-05-01</td>\n",
       "      <td>Avengers: Age of Ultron</td>\n",
       "      <td>$330,600,000</td>\n",
       "      <td>$459,005,868</td>\n",
       "      <td>$1,403,013,963</td>\n",
       "    </tr>\n",
       "    <tr>\n",
       "      <th>4</th>\n",
       "      <td>5</td>\n",
       "      <td>2017-12-15</td>\n",
       "      <td>Star Wars Ep. VIII: The Last Jedi</td>\n",
       "      <td>$317,000,000</td>\n",
       "      <td>$620,181,382</td>\n",
       "      <td>$1,316,721,747</td>\n",
       "    </tr>\n",
       "  </tbody>\n",
       "</table>\n",
       "</div>"
      ],
      "text/plain": [
       "   id release_date                                        movie  \\\n",
       "0   1   2009-12-18                                       Avatar   \n",
       "1   2   2011-05-20  Pirates of the Caribbean: On Stranger Tides   \n",
       "2   3   2019-06-07                                 Dark Phoenix   \n",
       "3   4   2015-05-01                      Avengers: Age of Ultron   \n",
       "4   5   2017-12-15            Star Wars Ep. VIII: The Last Jedi   \n",
       "\n",
       "  production_budget domestic_gross worldwide_gross  \n",
       "0      $425,000,000   $760,507,625  $2,776,345,279  \n",
       "1      $410,600,000   $241,063,875  $1,045,663,875  \n",
       "2      $350,000,000    $42,762,350    $149,762,350  \n",
       "3      $330,600,000   $459,005,868  $1,403,013,963  \n",
       "4      $317,000,000   $620,181,382  $1,316,721,747  "
      ]
     },
     "execution_count": 48,
     "metadata": {},
     "output_type": "execute_result"
    }
   ],
   "source": [
    "# Converting the release_date column to  datetime object \n",
    "numbers_df['release_date'] = pd.to_datetime(numbers_df['release_date'])\n",
    "numbers_df.head()"
   ]
  },
  {
   "cell_type": "markdown",
   "id": "a59bc60f",
   "metadata": {},
   "source": [
    "### Data analysis"
   ]
  },
  {
   "cell_type": "markdown",
   "id": "f8e3f2a0",
   "metadata": {},
   "source": [
    "The data has been cleaned at can be used to provide insights and visualizations to Microsoft.\n",
    "To start off we will take a look at the numbers_df,its columns and come up with the appropriate analysis and visualisations"
   ]
  },
  {
   "cell_type": "code",
   "execution_count": 49,
   "id": "cc1c5307",
   "metadata": {},
   "outputs": [
    {
     "data": {
      "text/html": [
       "<div>\n",
       "<style scoped>\n",
       "    .dataframe tbody tr th:only-of-type {\n",
       "        vertical-align: middle;\n",
       "    }\n",
       "\n",
       "    .dataframe tbody tr th {\n",
       "        vertical-align: top;\n",
       "    }\n",
       "\n",
       "    .dataframe thead th {\n",
       "        text-align: right;\n",
       "    }\n",
       "</style>\n",
       "<table border=\"1\" class=\"dataframe\">\n",
       "  <thead>\n",
       "    <tr style=\"text-align: right;\">\n",
       "      <th></th>\n",
       "      <th>id</th>\n",
       "      <th>release_date</th>\n",
       "      <th>movie</th>\n",
       "      <th>production_budget</th>\n",
       "      <th>domestic_gross</th>\n",
       "      <th>worldwide_gross</th>\n",
       "    </tr>\n",
       "  </thead>\n",
       "  <tbody>\n",
       "    <tr>\n",
       "      <th>0</th>\n",
       "      <td>1</td>\n",
       "      <td>2009-12-18</td>\n",
       "      <td>Avatar</td>\n",
       "      <td>$425,000,000</td>\n",
       "      <td>$760,507,625</td>\n",
       "      <td>$2,776,345,279</td>\n",
       "    </tr>\n",
       "    <tr>\n",
       "      <th>1</th>\n",
       "      <td>2</td>\n",
       "      <td>2011-05-20</td>\n",
       "      <td>Pirates of the Caribbean: On Stranger Tides</td>\n",
       "      <td>$410,600,000</td>\n",
       "      <td>$241,063,875</td>\n",
       "      <td>$1,045,663,875</td>\n",
       "    </tr>\n",
       "    <tr>\n",
       "      <th>2</th>\n",
       "      <td>3</td>\n",
       "      <td>2019-06-07</td>\n",
       "      <td>Dark Phoenix</td>\n",
       "      <td>$350,000,000</td>\n",
       "      <td>$42,762,350</td>\n",
       "      <td>$149,762,350</td>\n",
       "    </tr>\n",
       "    <tr>\n",
       "      <th>3</th>\n",
       "      <td>4</td>\n",
       "      <td>2015-05-01</td>\n",
       "      <td>Avengers: Age of Ultron</td>\n",
       "      <td>$330,600,000</td>\n",
       "      <td>$459,005,868</td>\n",
       "      <td>$1,403,013,963</td>\n",
       "    </tr>\n",
       "    <tr>\n",
       "      <th>4</th>\n",
       "      <td>5</td>\n",
       "      <td>2017-12-15</td>\n",
       "      <td>Star Wars Ep. VIII: The Last Jedi</td>\n",
       "      <td>$317,000,000</td>\n",
       "      <td>$620,181,382</td>\n",
       "      <td>$1,316,721,747</td>\n",
       "    </tr>\n",
       "  </tbody>\n",
       "</table>\n",
       "</div>"
      ],
      "text/plain": [
       "   id release_date                                        movie  \\\n",
       "0   1   2009-12-18                                       Avatar   \n",
       "1   2   2011-05-20  Pirates of the Caribbean: On Stranger Tides   \n",
       "2   3   2019-06-07                                 Dark Phoenix   \n",
       "3   4   2015-05-01                      Avengers: Age of Ultron   \n",
       "4   5   2017-12-15            Star Wars Ep. VIII: The Last Jedi   \n",
       "\n",
       "  production_budget domestic_gross worldwide_gross  \n",
       "0      $425,000,000   $760,507,625  $2,776,345,279  \n",
       "1      $410,600,000   $241,063,875  $1,045,663,875  \n",
       "2      $350,000,000    $42,762,350    $149,762,350  \n",
       "3      $330,600,000   $459,005,868  $1,403,013,963  \n",
       "4      $317,000,000   $620,181,382  $1,316,721,747  "
      ]
     },
     "execution_count": 49,
     "metadata": {},
     "output_type": "execute_result"
    }
   ],
   "source": [
    "numbers_df.head()"
   ]
  },
  {
   "cell_type": "markdown",
   "id": "0e6a9fff",
   "metadata": {},
   "source": [
    "The columns domestic_gross and worldwide_gross can be added together to form total gross and the production_budget can be used to calculate the overall profit from the dataset...i.e profit = Total gross - production budget\n",
    "-  To perform mathematical operations we will have to convert the money labelled with the dollar sign into integer type. To do this we will remove the commas and the dollar sign and convert the data into an integer type"
   ]
  },
  {
   "cell_type": "code",
   "execution_count": 50,
   "id": "8f313be8",
   "metadata": {},
   "outputs": [],
   "source": [
    "numbers_df[['production_budget','domestic_gross','worldwide_gross']]= numbers_df[['production_budget','domestic_gross','worldwide_gross']].applymap(lambda x: int(x.replace('$','').replace(',','')))"
   ]
  },
  {
   "cell_type": "code",
   "execution_count": 51,
   "id": "08440737",
   "metadata": {},
   "outputs": [
    {
     "data": {
      "text/plain": [
       "id                            int64\n",
       "release_date         datetime64[ns]\n",
       "movie                        object\n",
       "production_budget             int64\n",
       "domestic_gross                int64\n",
       "worldwide_gross               int64\n",
       "dtype: object"
      ]
     },
     "execution_count": 51,
     "metadata": {},
     "output_type": "execute_result"
    }
   ],
   "source": [
    "# Exploring the data types in numbers_df dataset\n",
    "numbers_df.dtypes"
   ]
  },
  {
   "cell_type": "code",
   "execution_count": 52,
   "id": "47c655a4",
   "metadata": {},
   "outputs": [
    {
     "data": {
      "text/html": [
       "<div>\n",
       "<style scoped>\n",
       "    .dataframe tbody tr th:only-of-type {\n",
       "        vertical-align: middle;\n",
       "    }\n",
       "\n",
       "    .dataframe tbody tr th {\n",
       "        vertical-align: top;\n",
       "    }\n",
       "\n",
       "    .dataframe thead th {\n",
       "        text-align: right;\n",
       "    }\n",
       "</style>\n",
       "<table border=\"1\" class=\"dataframe\">\n",
       "  <thead>\n",
       "    <tr style=\"text-align: right;\">\n",
       "      <th></th>\n",
       "      <th>id</th>\n",
       "      <th>release_date</th>\n",
       "      <th>movie</th>\n",
       "      <th>production_budget</th>\n",
       "      <th>domestic_gross</th>\n",
       "      <th>worldwide_gross</th>\n",
       "      <th>Profits</th>\n",
       "    </tr>\n",
       "  </thead>\n",
       "  <tbody>\n",
       "    <tr>\n",
       "      <th>0</th>\n",
       "      <td>1</td>\n",
       "      <td>2009-12-18</td>\n",
       "      <td>Avatar</td>\n",
       "      <td>425000000</td>\n",
       "      <td>760507625</td>\n",
       "      <td>2776345279</td>\n",
       "      <td>3111852904</td>\n",
       "    </tr>\n",
       "    <tr>\n",
       "      <th>1</th>\n",
       "      <td>2</td>\n",
       "      <td>2011-05-20</td>\n",
       "      <td>Pirates of the Caribbean: On Stranger Tides</td>\n",
       "      <td>410600000</td>\n",
       "      <td>241063875</td>\n",
       "      <td>1045663875</td>\n",
       "      <td>876127750</td>\n",
       "    </tr>\n",
       "    <tr>\n",
       "      <th>2</th>\n",
       "      <td>3</td>\n",
       "      <td>2019-06-07</td>\n",
       "      <td>Dark Phoenix</td>\n",
       "      <td>350000000</td>\n",
       "      <td>42762350</td>\n",
       "      <td>149762350</td>\n",
       "      <td>-157475300</td>\n",
       "    </tr>\n",
       "    <tr>\n",
       "      <th>3</th>\n",
       "      <td>4</td>\n",
       "      <td>2015-05-01</td>\n",
       "      <td>Avengers: Age of Ultron</td>\n",
       "      <td>330600000</td>\n",
       "      <td>459005868</td>\n",
       "      <td>1403013963</td>\n",
       "      <td>1531419831</td>\n",
       "    </tr>\n",
       "    <tr>\n",
       "      <th>4</th>\n",
       "      <td>5</td>\n",
       "      <td>2017-12-15</td>\n",
       "      <td>Star Wars Ep. VIII: The Last Jedi</td>\n",
       "      <td>317000000</td>\n",
       "      <td>620181382</td>\n",
       "      <td>1316721747</td>\n",
       "      <td>1619903129</td>\n",
       "    </tr>\n",
       "    <tr>\n",
       "      <th>5</th>\n",
       "      <td>6</td>\n",
       "      <td>2015-12-18</td>\n",
       "      <td>Star Wars Ep. VII: The Force Awakens</td>\n",
       "      <td>306000000</td>\n",
       "      <td>936662225</td>\n",
       "      <td>2053311220</td>\n",
       "      <td>2683973445</td>\n",
       "    </tr>\n",
       "    <tr>\n",
       "      <th>6</th>\n",
       "      <td>7</td>\n",
       "      <td>2018-04-27</td>\n",
       "      <td>Avengers: Infinity War</td>\n",
       "      <td>300000000</td>\n",
       "      <td>678815482</td>\n",
       "      <td>2048134200</td>\n",
       "      <td>2426949682</td>\n",
       "    </tr>\n",
       "    <tr>\n",
       "      <th>7</th>\n",
       "      <td>8</td>\n",
       "      <td>2007-05-24</td>\n",
       "      <td>Pirates of the Caribbean: At Worldâs End</td>\n",
       "      <td>300000000</td>\n",
       "      <td>309420425</td>\n",
       "      <td>963420425</td>\n",
       "      <td>972840850</td>\n",
       "    </tr>\n",
       "    <tr>\n",
       "      <th>8</th>\n",
       "      <td>9</td>\n",
       "      <td>2017-11-17</td>\n",
       "      <td>Justice League</td>\n",
       "      <td>300000000</td>\n",
       "      <td>229024295</td>\n",
       "      <td>655945209</td>\n",
       "      <td>584969504</td>\n",
       "    </tr>\n",
       "    <tr>\n",
       "      <th>9</th>\n",
       "      <td>10</td>\n",
       "      <td>2015-11-06</td>\n",
       "      <td>Spectre</td>\n",
       "      <td>300000000</td>\n",
       "      <td>200074175</td>\n",
       "      <td>879620923</td>\n",
       "      <td>779695098</td>\n",
       "    </tr>\n",
       "  </tbody>\n",
       "</table>\n",
       "</div>"
      ],
      "text/plain": [
       "   id release_date                                        movie  \\\n",
       "0   1   2009-12-18                                       Avatar   \n",
       "1   2   2011-05-20  Pirates of the Caribbean: On Stranger Tides   \n",
       "2   3   2019-06-07                                 Dark Phoenix   \n",
       "3   4   2015-05-01                      Avengers: Age of Ultron   \n",
       "4   5   2017-12-15            Star Wars Ep. VIII: The Last Jedi   \n",
       "5   6   2015-12-18         Star Wars Ep. VII: The Force Awakens   \n",
       "6   7   2018-04-27                       Avengers: Infinity War   \n",
       "7   8   2007-05-24   Pirates of the Caribbean: At Worldâs End   \n",
       "8   9   2017-11-17                               Justice League   \n",
       "9  10   2015-11-06                                      Spectre   \n",
       "\n",
       "   production_budget  domestic_gross  worldwide_gross     Profits  \n",
       "0          425000000       760507625       2776345279  3111852904  \n",
       "1          410600000       241063875       1045663875   876127750  \n",
       "2          350000000        42762350        149762350  -157475300  \n",
       "3          330600000       459005868       1403013963  1531419831  \n",
       "4          317000000       620181382       1316721747  1619903129  \n",
       "5          306000000       936662225       2053311220  2683973445  \n",
       "6          300000000       678815482       2048134200  2426949682  \n",
       "7          300000000       309420425        963420425   972840850  \n",
       "8          300000000       229024295        655945209   584969504  \n",
       "9          300000000       200074175        879620923   779695098  "
      ]
     },
     "execution_count": 52,
     "metadata": {},
     "output_type": "execute_result"
    }
   ],
   "source": [
    "# The datatypes can now be used for mathematical computations\n",
    "# The column 'worldwide_gross' represents international earnings...as stasted from The Numbers website\n",
    "# Adding a new column Profits\n",
    "numbers_df['Profits'] = (numbers_df['domestic_gross']+numbers_df['worldwide_gross']) - numbers_df['production_budget']\n",
    "numbers_df.head(10)"
   ]
  },
  {
   "cell_type": "code",
   "execution_count": 53,
   "id": "030ada55",
   "metadata": {},
   "outputs": [
    {
     "data": {
      "text/html": [
       "<div>\n",
       "<style scoped>\n",
       "    .dataframe tbody tr th:only-of-type {\n",
       "        vertical-align: middle;\n",
       "    }\n",
       "\n",
       "    .dataframe tbody tr th {\n",
       "        vertical-align: top;\n",
       "    }\n",
       "\n",
       "    .dataframe thead th {\n",
       "        text-align: right;\n",
       "    }\n",
       "</style>\n",
       "<table border=\"1\" class=\"dataframe\">\n",
       "  <thead>\n",
       "    <tr style=\"text-align: right;\">\n",
       "      <th></th>\n",
       "      <th>id</th>\n",
       "      <th>release_year</th>\n",
       "      <th>movie</th>\n",
       "      <th>production_budget</th>\n",
       "      <th>domestic_gross</th>\n",
       "      <th>worldwide_gross</th>\n",
       "      <th>Profits</th>\n",
       "    </tr>\n",
       "  </thead>\n",
       "  <tbody>\n",
       "    <tr>\n",
       "      <th>0</th>\n",
       "      <td>1</td>\n",
       "      <td>2009</td>\n",
       "      <td>Avatar</td>\n",
       "      <td>425000000</td>\n",
       "      <td>760507625</td>\n",
       "      <td>2776345279</td>\n",
       "      <td>3111852904</td>\n",
       "    </tr>\n",
       "    <tr>\n",
       "      <th>1</th>\n",
       "      <td>2</td>\n",
       "      <td>2011</td>\n",
       "      <td>Pirates of the Caribbean: On Stranger Tides</td>\n",
       "      <td>410600000</td>\n",
       "      <td>241063875</td>\n",
       "      <td>1045663875</td>\n",
       "      <td>876127750</td>\n",
       "    </tr>\n",
       "    <tr>\n",
       "      <th>2</th>\n",
       "      <td>3</td>\n",
       "      <td>2019</td>\n",
       "      <td>Dark Phoenix</td>\n",
       "      <td>350000000</td>\n",
       "      <td>42762350</td>\n",
       "      <td>149762350</td>\n",
       "      <td>-157475300</td>\n",
       "    </tr>\n",
       "    <tr>\n",
       "      <th>3</th>\n",
       "      <td>4</td>\n",
       "      <td>2015</td>\n",
       "      <td>Avengers: Age of Ultron</td>\n",
       "      <td>330600000</td>\n",
       "      <td>459005868</td>\n",
       "      <td>1403013963</td>\n",
       "      <td>1531419831</td>\n",
       "    </tr>\n",
       "    <tr>\n",
       "      <th>4</th>\n",
       "      <td>5</td>\n",
       "      <td>2017</td>\n",
       "      <td>Star Wars Ep. VIII: The Last Jedi</td>\n",
       "      <td>317000000</td>\n",
       "      <td>620181382</td>\n",
       "      <td>1316721747</td>\n",
       "      <td>1619903129</td>\n",
       "    </tr>\n",
       "  </tbody>\n",
       "</table>\n",
       "</div>"
      ],
      "text/plain": [
       "   id  release_year                                        movie  \\\n",
       "0   1          2009                                       Avatar   \n",
       "1   2          2011  Pirates of the Caribbean: On Stranger Tides   \n",
       "2   3          2019                                 Dark Phoenix   \n",
       "3   4          2015                      Avengers: Age of Ultron   \n",
       "4   5          2017            Star Wars Ep. VIII: The Last Jedi   \n",
       "\n",
       "   production_budget  domestic_gross  worldwide_gross     Profits  \n",
       "0          425000000       760507625       2776345279  3111852904  \n",
       "1          410600000       241063875       1045663875   876127750  \n",
       "2          350000000        42762350        149762350  -157475300  \n",
       "3          330600000       459005868       1403013963  1531419831  \n",
       "4          317000000       620181382       1316721747  1619903129  "
      ]
     },
     "execution_count": 53,
     "metadata": {},
     "output_type": "execute_result"
    }
   ],
   "source": [
    "# Modyfying the release_date to only remain with the year\n",
    "numbers_df['release_date'] =numbers_df['release_date'].dt.year\n",
    "# Renaming the column 'release_date' to 'release_year'\n",
    "numbers_df.rename(columns ={'release_date':'release_year'},inplace = True)\n",
    "numbers_df.head()"
   ]
  },
  {
   "cell_type": "markdown",
   "id": "cae5b75f",
   "metadata": {},
   "source": [
    "### Determining which films (genres) had the highest rating on imdb"
   ]
  },
  {
   "cell_type": "markdown",
   "id": "53978720",
   "metadata": {},
   "source": [
    "The genres of films come in different forms for instance comedy,drama and (action comedy). This information on genres is contained in the title_basics dataset obtained from [IMDb](https://www.imdb.com/).To obtain which genres have the highest rating we will join this dataframe with the ratings_df also obtained from [IMDb](https://www.imdb.com/)"
   ]
  },
  {
   "cell_type": "code",
   "execution_count": 73,
   "id": "6b047918",
   "metadata": {},
   "outputs": [
    {
     "data": {
      "text/html": [
       "<div>\n",
       "<style scoped>\n",
       "    .dataframe tbody tr th:only-of-type {\n",
       "        vertical-align: middle;\n",
       "    }\n",
       "\n",
       "    .dataframe tbody tr th {\n",
       "        vertical-align: top;\n",
       "    }\n",
       "\n",
       "    .dataframe thead th {\n",
       "        text-align: right;\n",
       "    }\n",
       "</style>\n",
       "<table border=\"1\" class=\"dataframe\">\n",
       "  <thead>\n",
       "    <tr style=\"text-align: right;\">\n",
       "      <th></th>\n",
       "      <th>tconst</th>\n",
       "      <th>primary_title</th>\n",
       "      <th>original_title</th>\n",
       "      <th>start_year</th>\n",
       "      <th>runtime_minutes</th>\n",
       "      <th>genres</th>\n",
       "    </tr>\n",
       "  </thead>\n",
       "  <tbody>\n",
       "    <tr>\n",
       "      <th>0</th>\n",
       "      <td>tt0063540</td>\n",
       "      <td>Sunghursh</td>\n",
       "      <td>Sunghursh</td>\n",
       "      <td>2013.0</td>\n",
       "      <td>175.000000</td>\n",
       "      <td>Action,Crime,Drama</td>\n",
       "    </tr>\n",
       "    <tr>\n",
       "      <th>1</th>\n",
       "      <td>tt0066787</td>\n",
       "      <td>One Day Before the Rainy Season</td>\n",
       "      <td>Ashad Ka Ek Din</td>\n",
       "      <td>2019.0</td>\n",
       "      <td>114.000000</td>\n",
       "      <td>Biography,Drama</td>\n",
       "    </tr>\n",
       "    <tr>\n",
       "      <th>2</th>\n",
       "      <td>tt0069049</td>\n",
       "      <td>The Other Side of the Wind</td>\n",
       "      <td>The Other Side of the Wind</td>\n",
       "      <td>2018.0</td>\n",
       "      <td>122.000000</td>\n",
       "      <td>Drama</td>\n",
       "    </tr>\n",
       "    <tr>\n",
       "      <th>3</th>\n",
       "      <td>tt0069204</td>\n",
       "      <td>Sabse Bada Sukh</td>\n",
       "      <td>Sabse Bada Sukh</td>\n",
       "      <td>2018.0</td>\n",
       "      <td>86.187247</td>\n",
       "      <td>Comedy,Drama</td>\n",
       "    </tr>\n",
       "    <tr>\n",
       "      <th>4</th>\n",
       "      <td>tt0100275</td>\n",
       "      <td>The Wandering Soap Opera</td>\n",
       "      <td>La Telenovela Errante</td>\n",
       "      <td>2017.0</td>\n",
       "      <td>80.000000</td>\n",
       "      <td>Comedy,Drama,Fantasy</td>\n",
       "    </tr>\n",
       "  </tbody>\n",
       "</table>\n",
       "</div>"
      ],
      "text/plain": [
       "      tconst                    primary_title              original_title  \\\n",
       "0  tt0063540                        Sunghursh                   Sunghursh   \n",
       "1  tt0066787  One Day Before the Rainy Season             Ashad Ka Ek Din   \n",
       "2  tt0069049       The Other Side of the Wind  The Other Side of the Wind   \n",
       "3  tt0069204                  Sabse Bada Sukh             Sabse Bada Sukh   \n",
       "4  tt0100275         The Wandering Soap Opera       La Telenovela Errante   \n",
       "\n",
       "   start_year  runtime_minutes                genres  \n",
       "0      2013.0       175.000000    Action,Crime,Drama  \n",
       "1      2019.0       114.000000       Biography,Drama  \n",
       "2      2018.0       122.000000                 Drama  \n",
       "3      2018.0        86.187247          Comedy,Drama  \n",
       "4      2017.0        80.000000  Comedy,Drama,Fantasy  "
      ]
     },
     "execution_count": 73,
     "metadata": {},
     "output_type": "execute_result"
    }
   ],
   "source": [
    "# Exploring the two dataframes to see their columns\n",
    "title_basics.head()"
   ]
  },
  {
   "cell_type": "code",
   "execution_count": 74,
   "id": "53ec83d3",
   "metadata": {},
   "outputs": [
    {
     "data": {
      "text/html": [
       "<div>\n",
       "<style scoped>\n",
       "    .dataframe tbody tr th:only-of-type {\n",
       "        vertical-align: middle;\n",
       "    }\n",
       "\n",
       "    .dataframe tbody tr th {\n",
       "        vertical-align: top;\n",
       "    }\n",
       "\n",
       "    .dataframe thead th {\n",
       "        text-align: right;\n",
       "    }\n",
       "</style>\n",
       "<table border=\"1\" class=\"dataframe\">\n",
       "  <thead>\n",
       "    <tr style=\"text-align: right;\">\n",
       "      <th></th>\n",
       "      <th>tconst</th>\n",
       "      <th>averagerating</th>\n",
       "      <th>numvotes</th>\n",
       "    </tr>\n",
       "  </thead>\n",
       "  <tbody>\n",
       "    <tr>\n",
       "      <th>0</th>\n",
       "      <td>tt10356526</td>\n",
       "      <td>8.3</td>\n",
       "      <td>31</td>\n",
       "    </tr>\n",
       "    <tr>\n",
       "      <th>1</th>\n",
       "      <td>tt10384606</td>\n",
       "      <td>8.9</td>\n",
       "      <td>559</td>\n",
       "    </tr>\n",
       "    <tr>\n",
       "      <th>2</th>\n",
       "      <td>tt1042974</td>\n",
       "      <td>6.4</td>\n",
       "      <td>20</td>\n",
       "    </tr>\n",
       "    <tr>\n",
       "      <th>3</th>\n",
       "      <td>tt1043726</td>\n",
       "      <td>4.2</td>\n",
       "      <td>50352</td>\n",
       "    </tr>\n",
       "    <tr>\n",
       "      <th>4</th>\n",
       "      <td>tt1060240</td>\n",
       "      <td>6.5</td>\n",
       "      <td>21</td>\n",
       "    </tr>\n",
       "  </tbody>\n",
       "</table>\n",
       "</div>"
      ],
      "text/plain": [
       "       tconst  averagerating  numvotes\n",
       "0  tt10356526            8.3        31\n",
       "1  tt10384606            8.9       559\n",
       "2   tt1042974            6.4        20\n",
       "3   tt1043726            4.2     50352\n",
       "4   tt1060240            6.5        21"
      ]
     },
     "execution_count": 74,
     "metadata": {},
     "output_type": "execute_result"
    }
   ],
   "source": [
    "ratings_df.head()"
   ]
  },
  {
   "cell_type": "code",
   "execution_count": 94,
   "id": "d0050e12",
   "metadata": {},
   "outputs": [
    {
     "data": {
      "text/html": [
       "<div>\n",
       "<style scoped>\n",
       "    .dataframe tbody tr th:only-of-type {\n",
       "        vertical-align: middle;\n",
       "    }\n",
       "\n",
       "    .dataframe tbody tr th {\n",
       "        vertical-align: top;\n",
       "    }\n",
       "\n",
       "    .dataframe thead th {\n",
       "        text-align: right;\n",
       "    }\n",
       "</style>\n",
       "<table border=\"1\" class=\"dataframe\">\n",
       "  <thead>\n",
       "    <tr style=\"text-align: right;\">\n",
       "      <th></th>\n",
       "      <th>tconst</th>\n",
       "      <th>averagerating</th>\n",
       "      <th>numvotes</th>\n",
       "      <th>primary_title</th>\n",
       "      <th>original_title</th>\n",
       "      <th>start_year</th>\n",
       "      <th>runtime_minutes</th>\n",
       "      <th>genres</th>\n",
       "    </tr>\n",
       "  </thead>\n",
       "  <tbody>\n",
       "    <tr>\n",
       "      <th>0</th>\n",
       "      <td>tt10356526</td>\n",
       "      <td>8.3</td>\n",
       "      <td>31</td>\n",
       "      <td>Laiye Je Yaarian</td>\n",
       "      <td>Laiye Je Yaarian</td>\n",
       "      <td>2019.0</td>\n",
       "      <td>117.0</td>\n",
       "      <td>Romance</td>\n",
       "    </tr>\n",
       "    <tr>\n",
       "      <th>1</th>\n",
       "      <td>tt10384606</td>\n",
       "      <td>8.9</td>\n",
       "      <td>559</td>\n",
       "      <td>Borderless</td>\n",
       "      <td>Borderless</td>\n",
       "      <td>2019.0</td>\n",
       "      <td>87.0</td>\n",
       "      <td>Documentary</td>\n",
       "    </tr>\n",
       "    <tr>\n",
       "      <th>2</th>\n",
       "      <td>tt1042974</td>\n",
       "      <td>6.4</td>\n",
       "      <td>20</td>\n",
       "      <td>Just Inès</td>\n",
       "      <td>Just Inès</td>\n",
       "      <td>2010.0</td>\n",
       "      <td>90.0</td>\n",
       "      <td>Drama</td>\n",
       "    </tr>\n",
       "    <tr>\n",
       "      <th>3</th>\n",
       "      <td>tt1043726</td>\n",
       "      <td>4.2</td>\n",
       "      <td>50352</td>\n",
       "      <td>The Legend of Hercules</td>\n",
       "      <td>The Legend of Hercules</td>\n",
       "      <td>2014.0</td>\n",
       "      <td>99.0</td>\n",
       "      <td>Action,Adventure,Fantasy</td>\n",
       "    </tr>\n",
       "    <tr>\n",
       "      <th>4</th>\n",
       "      <td>tt1060240</td>\n",
       "      <td>6.5</td>\n",
       "      <td>21</td>\n",
       "      <td>Até Onde?</td>\n",
       "      <td>Até Onde?</td>\n",
       "      <td>2011.0</td>\n",
       "      <td>73.0</td>\n",
       "      <td>Mystery,Thriller</td>\n",
       "    </tr>\n",
       "  </tbody>\n",
       "</table>\n",
       "</div>"
      ],
      "text/plain": [
       "       tconst  averagerating  numvotes           primary_title  \\\n",
       "0  tt10356526            8.3        31        Laiye Je Yaarian   \n",
       "1  tt10384606            8.9       559              Borderless   \n",
       "2   tt1042974            6.4        20               Just Inès   \n",
       "3   tt1043726            4.2     50352  The Legend of Hercules   \n",
       "4   tt1060240            6.5        21               Até Onde?   \n",
       "\n",
       "           original_title  start_year  runtime_minutes  \\\n",
       "0        Laiye Je Yaarian      2019.0            117.0   \n",
       "1              Borderless      2019.0             87.0   \n",
       "2               Just Inès      2010.0             90.0   \n",
       "3  The Legend of Hercules      2014.0             99.0   \n",
       "4               Até Onde?      2011.0             73.0   \n",
       "\n",
       "                     genres  \n",
       "0                   Romance  \n",
       "1               Documentary  \n",
       "2                     Drama  \n",
       "3  Action,Adventure,Fantasy  \n",
       "4          Mystery,Thriller  "
      ]
     },
     "execution_count": 94,
     "metadata": {},
     "output_type": "execute_result"
    }
   ],
   "source": [
    "# Both datasets have a column tconst\n",
    "# Joining the two dataframes..(title_basics and ratings_df)\n",
    "title_n_ratings = ratings_df.merge(title_basics,on = 'tconst',how = 'inner')\n",
    "title_n_ratings.head()"
   ]
  },
  {
   "cell_type": "markdown",
   "id": "ad127450",
   "metadata": {},
   "source": [
    "The two dataframes have been merged.In order to identify whuch films(genres) have the highest rating we need to group the merged dataframe by genres and associate each genre with the mean of the average rating."
   ]
  },
  {
   "cell_type": "code",
   "execution_count": 95,
   "id": "845141df",
   "metadata": {},
   "outputs": [
    {
     "name": "stderr",
     "output_type": "stream",
     "text": [
      "C:\\Users\\hp\\AppData\\Local\\Temp\\ipykernel_18696\\1891333597.py:1: FutureWarning: The default value of numeric_only in DataFrameGroupBy.mean is deprecated. In a future version, numeric_only will default to False. Either specify numeric_only or select only columns which should be valid for the function.\n",
      "  grouped_tr = title_n_ratings.groupby('genres').agg('mean')\n"
     ]
    },
    {
     "data": {
      "text/html": [
       "<div>\n",
       "<style scoped>\n",
       "    .dataframe tbody tr th:only-of-type {\n",
       "        vertical-align: middle;\n",
       "    }\n",
       "\n",
       "    .dataframe tbody tr th {\n",
       "        vertical-align: top;\n",
       "    }\n",
       "\n",
       "    .dataframe thead th {\n",
       "        text-align: right;\n",
       "    }\n",
       "</style>\n",
       "<table border=\"1\" class=\"dataframe\">\n",
       "  <thead>\n",
       "    <tr style=\"text-align: right;\">\n",
       "      <th></th>\n",
       "      <th>averagerating</th>\n",
       "      <th>numvotes</th>\n",
       "      <th>start_year</th>\n",
       "      <th>runtime_minutes</th>\n",
       "    </tr>\n",
       "    <tr>\n",
       "      <th>genres</th>\n",
       "      <th></th>\n",
       "      <th></th>\n",
       "      <th></th>\n",
       "      <th></th>\n",
       "    </tr>\n",
       "  </thead>\n",
       "  <tbody>\n",
       "    <tr>\n",
       "      <th>Action</th>\n",
       "      <td>5.757712</td>\n",
       "      <td>336.115424</td>\n",
       "      <td>2014.271706</td>\n",
       "      <td>98.717375</td>\n",
       "    </tr>\n",
       "    <tr>\n",
       "      <th>Action,Adult,Comedy</th>\n",
       "      <td>4.650000</td>\n",
       "      <td>18.000000</td>\n",
       "      <td>2014.000000</td>\n",
       "      <td>78.593624</td>\n",
       "    </tr>\n",
       "    <tr>\n",
       "      <th>Action,Adventure</th>\n",
       "      <td>5.223529</td>\n",
       "      <td>1603.102941</td>\n",
       "      <td>2014.205882</td>\n",
       "      <td>103.663581</td>\n",
       "    </tr>\n",
       "    <tr>\n",
       "      <th>Action,Adventure,Animation</th>\n",
       "      <td>6.562874</td>\n",
       "      <td>21380.497006</td>\n",
       "      <td>2014.676647</td>\n",
       "      <td>92.614882</td>\n",
       "    </tr>\n",
       "    <tr>\n",
       "      <th>Action,Adventure,Biography</th>\n",
       "      <td>7.061905</td>\n",
       "      <td>47604.809524</td>\n",
       "      <td>2015.047619</td>\n",
       "      <td>102.741035</td>\n",
       "    </tr>\n",
       "  </tbody>\n",
       "</table>\n",
       "</div>"
      ],
      "text/plain": [
       "                            averagerating      numvotes   start_year  \\\n",
       "genres                                                                 \n",
       "Action                           5.757712    336.115424  2014.271706   \n",
       "Action,Adult,Comedy              4.650000     18.000000  2014.000000   \n",
       "Action,Adventure                 5.223529   1603.102941  2014.205882   \n",
       "Action,Adventure,Animation       6.562874  21380.497006  2014.676647   \n",
       "Action,Adventure,Biography       7.061905  47604.809524  2015.047619   \n",
       "\n",
       "                            runtime_minutes  \n",
       "genres                                       \n",
       "Action                            98.717375  \n",
       "Action,Adult,Comedy               78.593624  \n",
       "Action,Adventure                 103.663581  \n",
       "Action,Adventure,Animation        92.614882  \n",
       "Action,Adventure,Biography       102.741035  "
      ]
     },
     "execution_count": 95,
     "metadata": {},
     "output_type": "execute_result"
    }
   ],
   "source": [
    "grouped_tr = title_n_ratings.groupby('genres').agg('mean')\n",
    "grouped_tr.head()"
   ]
  },
  {
   "cell_type": "code",
   "execution_count": 96,
   "id": "b0ae33d4",
   "metadata": {},
   "outputs": [
    {
     "data": {
      "text/html": [
       "<div>\n",
       "<style scoped>\n",
       "    .dataframe tbody tr th:only-of-type {\n",
       "        vertical-align: middle;\n",
       "    }\n",
       "\n",
       "    .dataframe tbody tr th {\n",
       "        vertical-align: top;\n",
       "    }\n",
       "\n",
       "    .dataframe thead th {\n",
       "        text-align: right;\n",
       "    }\n",
       "</style>\n",
       "<table border=\"1\" class=\"dataframe\">\n",
       "  <thead>\n",
       "    <tr style=\"text-align: right;\">\n",
       "      <th></th>\n",
       "      <th>averagerating</th>\n",
       "      <th>numvotes</th>\n",
       "      <th>start_year</th>\n",
       "      <th>runtime_minutes</th>\n",
       "    </tr>\n",
       "    <tr>\n",
       "      <th>genres</th>\n",
       "      <th></th>\n",
       "      <th></th>\n",
       "      <th></th>\n",
       "      <th></th>\n",
       "    </tr>\n",
       "  </thead>\n",
       "  <tbody>\n",
       "    <tr>\n",
       "      <th>Comedy,Documentary,Fantasy</th>\n",
       "      <td>9.4</td>\n",
       "      <td>5.0</td>\n",
       "      <td>2015.0</td>\n",
       "      <td>70.000000</td>\n",
       "    </tr>\n",
       "    <tr>\n",
       "      <th>Documentary,Family,Musical</th>\n",
       "      <td>9.3</td>\n",
       "      <td>19.0</td>\n",
       "      <td>2017.0</td>\n",
       "      <td>59.000000</td>\n",
       "    </tr>\n",
       "    <tr>\n",
       "      <th>History,Sport</th>\n",
       "      <td>9.2</td>\n",
       "      <td>5.0</td>\n",
       "      <td>2016.0</td>\n",
       "      <td>86.187247</td>\n",
       "    </tr>\n",
       "    <tr>\n",
       "      <th>Music,Mystery</th>\n",
       "      <td>9.0</td>\n",
       "      <td>5.0</td>\n",
       "      <td>2012.0</td>\n",
       "      <td>86.187247</td>\n",
       "    </tr>\n",
       "    <tr>\n",
       "      <th>Game-Show</th>\n",
       "      <td>9.0</td>\n",
       "      <td>7.0</td>\n",
       "      <td>2013.0</td>\n",
       "      <td>130.000000</td>\n",
       "    </tr>\n",
       "    <tr>\n",
       "      <th>Drama,Fantasy,War</th>\n",
       "      <td>8.8</td>\n",
       "      <td>22.0</td>\n",
       "      <td>2016.0</td>\n",
       "      <td>86.187247</td>\n",
       "    </tr>\n",
       "    <tr>\n",
       "      <th>Documentary,News,Sport</th>\n",
       "      <td>8.8</td>\n",
       "      <td>25.0</td>\n",
       "      <td>2017.0</td>\n",
       "      <td>85.000000</td>\n",
       "    </tr>\n",
       "    <tr>\n",
       "      <th>Comedy,Drama,Reality-TV</th>\n",
       "      <td>8.8</td>\n",
       "      <td>15.0</td>\n",
       "      <td>2016.0</td>\n",
       "      <td>86.187247</td>\n",
       "    </tr>\n",
       "    <tr>\n",
       "      <th>Drama,Short</th>\n",
       "      <td>8.8</td>\n",
       "      <td>8.0</td>\n",
       "      <td>2018.0</td>\n",
       "      <td>18.000000</td>\n",
       "    </tr>\n",
       "    <tr>\n",
       "      <th>Documentary,News,Reality-TV</th>\n",
       "      <td>8.8</td>\n",
       "      <td>8.0</td>\n",
       "      <td>2014.0</td>\n",
       "      <td>61.000000</td>\n",
       "    </tr>\n",
       "  </tbody>\n",
       "</table>\n",
       "</div>"
      ],
      "text/plain": [
       "                             averagerating  numvotes  start_year  \\\n",
       "genres                                                             \n",
       "Comedy,Documentary,Fantasy             9.4       5.0      2015.0   \n",
       "Documentary,Family,Musical             9.3      19.0      2017.0   \n",
       "History,Sport                          9.2       5.0      2016.0   \n",
       "Music,Mystery                          9.0       5.0      2012.0   \n",
       "Game-Show                              9.0       7.0      2013.0   \n",
       "Drama,Fantasy,War                      8.8      22.0      2016.0   \n",
       "Documentary,News,Sport                 8.8      25.0      2017.0   \n",
       "Comedy,Drama,Reality-TV                8.8      15.0      2016.0   \n",
       "Drama,Short                            8.8       8.0      2018.0   \n",
       "Documentary,News,Reality-TV            8.8       8.0      2014.0   \n",
       "\n",
       "                             runtime_minutes  \n",
       "genres                                        \n",
       "Comedy,Documentary,Fantasy         70.000000  \n",
       "Documentary,Family,Musical         59.000000  \n",
       "History,Sport                      86.187247  \n",
       "Music,Mystery                      86.187247  \n",
       "Game-Show                         130.000000  \n",
       "Drama,Fantasy,War                  86.187247  \n",
       "Documentary,News,Sport             85.000000  \n",
       "Comedy,Drama,Reality-TV            86.187247  \n",
       "Drama,Short                        18.000000  \n",
       "Documentary,News,Reality-TV        61.000000  "
      ]
     },
     "execution_count": 96,
     "metadata": {},
     "output_type": "execute_result"
    }
   ],
   "source": [
    "# Sorting the values using the 'averagerating' column and accessing the top ten\n",
    "top_ratings = grouped_tr.sort_values(by = 'averagerating',ascending = False)[:10]\n",
    "top_ratings"
   ]
  },
  {
   "cell_type": "markdown",
   "id": "263e076e",
   "metadata": {},
   "source": [
    "The dataset above (top_ratings) has one problem..the genres with the highest rating are associated with a very small number of votes. It is wise to make decisions based on a higher number of votes. Lets use where the number of votes was above 1000."
   ]
  },
  {
   "cell_type": "code",
   "execution_count": 146,
   "id": "977fee3f",
   "metadata": {},
   "outputs": [
    {
     "data": {
      "text/html": [
       "<div>\n",
       "<style scoped>\n",
       "    .dataframe tbody tr th:only-of-type {\n",
       "        vertical-align: middle;\n",
       "    }\n",
       "\n",
       "    .dataframe tbody tr th {\n",
       "        vertical-align: top;\n",
       "    }\n",
       "\n",
       "    .dataframe thead th {\n",
       "        text-align: right;\n",
       "    }\n",
       "</style>\n",
       "<table border=\"1\" class=\"dataframe\">\n",
       "  <thead>\n",
       "    <tr style=\"text-align: right;\">\n",
       "      <th></th>\n",
       "      <th>genres</th>\n",
       "      <th>averagerating</th>\n",
       "    </tr>\n",
       "  </thead>\n",
       "  <tbody>\n",
       "    <tr>\n",
       "      <th>0</th>\n",
       "      <td>Animation,Documentary,Mystery</td>\n",
       "      <td>8.200000</td>\n",
       "    </tr>\n",
       "    <tr>\n",
       "      <th>1</th>\n",
       "      <td>Animation,Crime,Documentary</td>\n",
       "      <td>8.066667</td>\n",
       "    </tr>\n",
       "    <tr>\n",
       "      <th>2</th>\n",
       "      <td>Documentary,Sport,Thriller</td>\n",
       "      <td>7.900000</td>\n",
       "    </tr>\n",
       "    <tr>\n",
       "      <th>3</th>\n",
       "      <td>Biography,Documentary,Thriller</td>\n",
       "      <td>7.766667</td>\n",
       "    </tr>\n",
       "    <tr>\n",
       "      <th>4</th>\n",
       "      <td>Action,Documentary</td>\n",
       "      <td>7.711111</td>\n",
       "    </tr>\n",
       "    <tr>\n",
       "      <th>5</th>\n",
       "      <td>Animation,Drama,History</td>\n",
       "      <td>7.700000</td>\n",
       "    </tr>\n",
       "    <tr>\n",
       "      <th>6</th>\n",
       "      <td>Animation,Biography,Crime</td>\n",
       "      <td>7.550000</td>\n",
       "    </tr>\n",
       "    <tr>\n",
       "      <th>7</th>\n",
       "      <td>Comedy,Crime,Documentary</td>\n",
       "      <td>7.533333</td>\n",
       "    </tr>\n",
       "    <tr>\n",
       "      <th>8</th>\n",
       "      <td>Biography,Documentary,Mystery</td>\n",
       "      <td>7.520000</td>\n",
       "    </tr>\n",
       "    <tr>\n",
       "      <th>9</th>\n",
       "      <td>Adventure,Biography,Crime</td>\n",
       "      <td>7.500000</td>\n",
       "    </tr>\n",
       "  </tbody>\n",
       "</table>\n",
       "</div>"
      ],
      "text/plain": [
       "                           genres  averagerating\n",
       "0   Animation,Documentary,Mystery       8.200000\n",
       "1     Animation,Crime,Documentary       8.066667\n",
       "2      Documentary,Sport,Thriller       7.900000\n",
       "3  Biography,Documentary,Thriller       7.766667\n",
       "4              Action,Documentary       7.711111\n",
       "5         Animation,Drama,History       7.700000\n",
       "6       Animation,Biography,Crime       7.550000\n",
       "7        Comedy,Crime,Documentary       7.533333\n",
       "8   Biography,Documentary,Mystery       7.520000\n",
       "9       Adventure,Biography,Crime       7.500000"
      ]
     },
     "execution_count": 146,
     "metadata": {},
     "output_type": "execute_result"
    }
   ],
   "source": [
    "# Filtering the grouped_tr to have the genres with more than a thousand votes.\n",
    "grouped_trh = grouped_tr.loc[grouped_tr['numvotes']>1000]\n",
    "# Sorting the values accessing the top 10\n",
    "grouped_trh = grouped_trh.sort_values(by = 'averagerating',ascending = False)[:10]\n",
    "grouped_trh = grouped_trh.reset_index()\n",
    "# Creating a table of genres and there respective rating\n",
    "top_10_ratings = grouped_trh[['genres','averagerating']]\n",
    "top_10_ratings"
   ]
  },
  {
   "cell_type": "code",
   "execution_count": 155,
   "id": "1391ba0d",
   "metadata": {},
   "outputs": [
    {
     "data": {
      "image/png": "[encoded data removed]",
      "text/plain": [
       "<Figure size 1000x400 with 1 Axes>"
      ]
     },
     "metadata": {},
     "output_type": "display_data"
    }
   ],
   "source": [
    "# Creating a bargraph from the above dataset\n",
    "fig,ax = plt.subplots(figsize =(10,4))\n",
    "lt = np.arange(len(grouped_trh))\n",
    "ax.bar(grouped_trh['genres'],grouped_trh['averagerating'],edgecolor = 'Black')\n",
    "ax.set_title('TOP RATED FILMS WITH MORE THAN 1000 VOTES')\n",
    "ax.set_xlabel('Genres')\n",
    "ax.set_ylabel('Average_Rating')\n",
    "ax.set_xticks(lt,grouped_trh['genres'],rotation=75,fontsize = 10)\n",
    "plt.subplots_adjust(bottom=0.1, top=0.99);"
   ]
  },
  {
   "cell_type": "markdown",
   "id": "39fd1d4b",
   "metadata": {},
   "source": [
    "### Determinig which genres have the highest profits"
   ]
  },
  {
   "cell_type": "code",
   "execution_count": null,
   "id": "ca04ea7a",
   "metadata": {},
   "outputs": [],
   "source": []
  },
  {
   "cell_type": "code",
   "execution_count": null,
   "id": "c1ebf08d",
   "metadata": {},
   "outputs": [],
   "source": []
  },
  {
   "cell_type": "code",
   "execution_count": null,
   "id": "80b8e473",
   "metadata": {},
   "outputs": [],
   "source": []
  },
  {
   "cell_type": "code",
   "execution_count": null,
   "id": "5f32b215",
   "metadata": {},
   "outputs": [],
   "source": []
  },
  {
   "cell_type": "code",
   "execution_count": null,
   "id": "71841c3f",
   "metadata": {},
   "outputs": [],
   "source": []
  },
  {
   "cell_type": "code",
   "execution_count": null,
   "id": "d9963f42",
   "metadata": {},
   "outputs": [],
   "source": []
  },
  {
   "cell_type": "code",
   "execution_count": null,
   "id": "838c480d",
   "metadata": {},
   "outputs": [],
   "source": []
  },
  {
   "cell_type": "code",
   "execution_count": null,
   "id": "6909394c",
   "metadata": {},
   "outputs": [],
   "source": []
  },
  {
   "cell_type": "code",
   "execution_count": null,
   "id": "00818b77",
   "metadata": {},
   "outputs": [],
   "source": []
  },
  {
   "cell_type": "code",
   "execution_count": null,
   "id": "e8a2e1be",
   "metadata": {},
   "outputs": [],
   "source": []
  },
  {
   "cell_type": "code",
   "execution_count": null,
   "id": "2dbedd7e",
   "metadata": {},
   "outputs": [],
   "source": []
  },
  {
   "cell_type": "code",
   "execution_count": null,
   "id": "f4d06065",
   "metadata": {},
   "outputs": [],
   "source": []
  },
  {
   "cell_type": "code",
   "execution_count": null,
   "id": "ec8e639b",
   "metadata": {},
   "outputs": [],
   "source": []
  },
  {
   "cell_type": "markdown",
   "id": "66f53614",
   "metadata": {},
   "source": [
    "### Determining the current trend of profits gained from filming"
   ]
  },
  {
   "cell_type": "code",
   "execution_count": 54,
   "id": "5c00be3c",
   "metadata": {},
   "outputs": [
    {
     "data": {
      "text/plain": [
       "2020"
      ]
     },
     "execution_count": 54,
     "metadata": {},
     "output_type": "execute_result"
    }
   ],
   "source": [
    "# Getting the most recent year in the dataset\n",
    "numbers_df['release_year'].max()"
   ]
  },
  {
   "cell_type": "markdown",
   "id": "ac4663cf",
   "metadata": {},
   "source": [
    "This dataset was collected in the year 2020,presumambly in the early months.It would be unwise to consider the profits gained from a film in that year or the previous year. The profits gained from movies take a longer period to be realised. We will consider up to the year 2018. "
   ]
  },
  {
   "cell_type": "code",
   "execution_count": 55,
   "id": "846dd489",
   "metadata": {},
   "outputs": [
    {
     "name": "stderr",
     "output_type": "stream",
     "text": [
      "C:\\Users\\hp\\AppData\\Local\\Temp\\ipykernel_3992\\2164764354.py:2: FutureWarning: The default value of numeric_only in DataFrameGroupBy.sum is deprecated. In a future version, numeric_only will default to False. Either specify numeric_only or select only columns which should be valid for the function.\n",
      "  trends_df = numbers_df.groupby('release_year',as_index = False).sum()\n"
     ]
    },
    {
     "data": {
      "text/html": [
       "<div>\n",
       "<style scoped>\n",
       "    .dataframe tbody tr th:only-of-type {\n",
       "        vertical-align: middle;\n",
       "    }\n",
       "\n",
       "    .dataframe tbody tr th {\n",
       "        vertical-align: top;\n",
       "    }\n",
       "\n",
       "    .dataframe thead th {\n",
       "        text-align: right;\n",
       "    }\n",
       "</style>\n",
       "<table border=\"1\" class=\"dataframe\">\n",
       "  <thead>\n",
       "    <tr style=\"text-align: right;\">\n",
       "      <th></th>\n",
       "      <th>release_year</th>\n",
       "      <th>id</th>\n",
       "      <th>production_budget</th>\n",
       "      <th>domestic_gross</th>\n",
       "      <th>worldwide_gross</th>\n",
       "      <th>Profits</th>\n",
       "    </tr>\n",
       "  </thead>\n",
       "  <tbody>\n",
       "    <tr>\n",
       "      <th>0</th>\n",
       "      <td>1915</td>\n",
       "      <td>78</td>\n",
       "      <td>110000</td>\n",
       "      <td>10000000</td>\n",
       "      <td>11000000</td>\n",
       "      <td>20890000</td>\n",
       "    </tr>\n",
       "    <tr>\n",
       "      <th>1</th>\n",
       "      <td>1916</td>\n",
       "      <td>39</td>\n",
       "      <td>585907</td>\n",
       "      <td>8000000</td>\n",
       "      <td>8000000</td>\n",
       "      <td>15414093</td>\n",
       "    </tr>\n",
       "    <tr>\n",
       "      <th>2</th>\n",
       "      <td>1920</td>\n",
       "      <td>84</td>\n",
       "      <td>100000</td>\n",
       "      <td>3000000</td>\n",
       "      <td>3000000</td>\n",
       "      <td>5900000</td>\n",
       "    </tr>\n",
       "    <tr>\n",
       "      <th>3</th>\n",
       "      <td>1925</td>\n",
       "      <td>77</td>\n",
       "      <td>4145000</td>\n",
       "      <td>20000000</td>\n",
       "      <td>31000000</td>\n",
       "      <td>46855000</td>\n",
       "    </tr>\n",
       "    <tr>\n",
       "      <th>4</th>\n",
       "      <td>1927</td>\n",
       "      <td>85</td>\n",
       "      <td>2000000</td>\n",
       "      <td>0</td>\n",
       "      <td>0</td>\n",
       "      <td>-2000000</td>\n",
       "    </tr>\n",
       "  </tbody>\n",
       "</table>\n",
       "</div>"
      ],
      "text/plain": [
       "   release_year  id  production_budget  domestic_gross  worldwide_gross  \\\n",
       "0          1915  78             110000        10000000         11000000   \n",
       "1          1916  39             585907         8000000          8000000   \n",
       "2          1920  84             100000         3000000          3000000   \n",
       "3          1925  77            4145000        20000000         31000000   \n",
       "4          1927  85            2000000               0                0   \n",
       "\n",
       "    Profits  \n",
       "0  20890000  \n",
       "1  15414093  \n",
       "2   5900000  \n",
       "3  46855000  \n",
       "4  -2000000  "
      ]
     },
     "execution_count": 55,
     "metadata": {},
     "output_type": "execute_result"
    }
   ],
   "source": [
    "# Grouping the numbers_df by year\n",
    "trends_df = numbers_df.groupby('release_year',as_index = False).sum()\n",
    "trends_df.head()"
   ]
  },
  {
   "cell_type": "code",
   "execution_count": 56,
   "id": "0e368afa",
   "metadata": {},
   "outputs": [
    {
     "data": {
      "text/html": [
       "<div>\n",
       "<style scoped>\n",
       "    .dataframe tbody tr th:only-of-type {\n",
       "        vertical-align: middle;\n",
       "    }\n",
       "\n",
       "    .dataframe tbody tr th {\n",
       "        vertical-align: top;\n",
       "    }\n",
       "\n",
       "    .dataframe thead th {\n",
       "        text-align: right;\n",
       "    }\n",
       "</style>\n",
       "<table border=\"1\" class=\"dataframe\">\n",
       "  <thead>\n",
       "    <tr style=\"text-align: right;\">\n",
       "      <th></th>\n",
       "      <th>release_year</th>\n",
       "      <th>id</th>\n",
       "      <th>production_budget</th>\n",
       "      <th>domestic_gross</th>\n",
       "      <th>worldwide_gross</th>\n",
       "      <th>Profits</th>\n",
       "    </tr>\n",
       "  </thead>\n",
       "  <tbody>\n",
       "    <tr>\n",
       "      <th>95</th>\n",
       "      <td>2020</td>\n",
       "      <td>137</td>\n",
       "      <td>282000000</td>\n",
       "      <td>0</td>\n",
       "      <td>0</td>\n",
       "      <td>-282000000</td>\n",
       "    </tr>\n",
       "    <tr>\n",
       "      <th>94</th>\n",
       "      <td>2019</td>\n",
       "      <td>3470</td>\n",
       "      <td>3533510000</td>\n",
       "      <td>2867619395</td>\n",
       "      <td>6676825346</td>\n",
       "      <td>6010934741</td>\n",
       "    </tr>\n",
       "    <tr>\n",
       "      <th>93</th>\n",
       "      <td>2018</td>\n",
       "      <td>7620</td>\n",
       "      <td>6883857000</td>\n",
       "      <td>10551784370</td>\n",
       "      <td>26094444899</td>\n",
       "      <td>29762372269</td>\n",
       "    </tr>\n",
       "    <tr>\n",
       "      <th>92</th>\n",
       "      <td>2017</td>\n",
       "      <td>8639</td>\n",
       "      <td>8405163000</td>\n",
       "      <td>10453395075</td>\n",
       "      <td>28429629005</td>\n",
       "      <td>30477861080</td>\n",
       "    </tr>\n",
       "    <tr>\n",
       "      <th>91</th>\n",
       "      <td>2016</td>\n",
       "      <td>10872</td>\n",
       "      <td>8973240000</td>\n",
       "      <td>11042828402</td>\n",
       "      <td>28768152741</td>\n",
       "      <td>30837741143</td>\n",
       "    </tr>\n",
       "  </tbody>\n",
       "</table>\n",
       "</div>"
      ],
      "text/plain": [
       "    release_year     id  production_budget  domestic_gross  worldwide_gross  \\\n",
       "95          2020    137          282000000               0                0   \n",
       "94          2019   3470         3533510000      2867619395       6676825346   \n",
       "93          2018   7620         6883857000     10551784370      26094444899   \n",
       "92          2017   8639         8405163000     10453395075      28429629005   \n",
       "91          2016  10872         8973240000     11042828402      28768152741   \n",
       "\n",
       "        Profits  \n",
       "95   -282000000  \n",
       "94   6010934741  \n",
       "93  29762372269  \n",
       "92  30477861080  \n",
       "91  30837741143  "
      ]
     },
     "execution_count": 56,
     "metadata": {},
     "output_type": "execute_result"
    }
   ],
   "source": [
    "# Sorting the values by 'release_year' in descending order\n",
    "trends_df.sort_values(by = 'release_year',inplace = True,ascending = False)\n",
    "trends_df.head()"
   ]
  },
  {
   "cell_type": "markdown",
   "id": "df87d59b",
   "metadata": {},
   "source": [
    "We would like to investigate the profits gained each year from filming in the past 10 years. We will look at the trend of profits from 2008 to 2018"
   ]
  },
  {
   "cell_type": "code",
   "execution_count": 57,
   "id": "692b88cc",
   "metadata": {},
   "outputs": [
    {
     "data": {
      "text/html": [
       "<div>\n",
       "<style scoped>\n",
       "    .dataframe tbody tr th:only-of-type {\n",
       "        vertical-align: middle;\n",
       "    }\n",
       "\n",
       "    .dataframe tbody tr th {\n",
       "        vertical-align: top;\n",
       "    }\n",
       "\n",
       "    .dataframe thead th {\n",
       "        text-align: right;\n",
       "    }\n",
       "</style>\n",
       "<table border=\"1\" class=\"dataframe\">\n",
       "  <thead>\n",
       "    <tr style=\"text-align: right;\">\n",
       "      <th></th>\n",
       "      <th>release_year</th>\n",
       "      <th>id</th>\n",
       "      <th>production_budget</th>\n",
       "      <th>domestic_gross</th>\n",
       "      <th>worldwide_gross</th>\n",
       "      <th>Profits</th>\n",
       "    </tr>\n",
       "  </thead>\n",
       "  <tbody>\n",
       "    <tr>\n",
       "      <th>93</th>\n",
       "      <td>2018</td>\n",
       "      <td>7620</td>\n",
       "      <td>6883857000</td>\n",
       "      <td>10551784370</td>\n",
       "      <td>26094444899</td>\n",
       "      <td>29762372269</td>\n",
       "    </tr>\n",
       "    <tr>\n",
       "      <th>92</th>\n",
       "      <td>2017</td>\n",
       "      <td>8639</td>\n",
       "      <td>8405163000</td>\n",
       "      <td>10453395075</td>\n",
       "      <td>28429629005</td>\n",
       "      <td>30477861080</td>\n",
       "    </tr>\n",
       "    <tr>\n",
       "      <th>91</th>\n",
       "      <td>2016</td>\n",
       "      <td>10872</td>\n",
       "      <td>8973240000</td>\n",
       "      <td>11042828402</td>\n",
       "      <td>28768152741</td>\n",
       "      <td>30837741143</td>\n",
       "    </tr>\n",
       "    <tr>\n",
       "      <th>90</th>\n",
       "      <td>2015</td>\n",
       "      <td>17326</td>\n",
       "      <td>8842179400</td>\n",
       "      <td>10795543800</td>\n",
       "      <td>27800988606</td>\n",
       "      <td>29754353006</td>\n",
       "    </tr>\n",
       "    <tr>\n",
       "      <th>89</th>\n",
       "      <td>2014</td>\n",
       "      <td>12543</td>\n",
       "      <td>7753407373</td>\n",
       "      <td>10062192521</td>\n",
       "      <td>25273926856</td>\n",
       "      <td>27582712004</td>\n",
       "    </tr>\n",
       "    <tr>\n",
       "      <th>88</th>\n",
       "      <td>2013</td>\n",
       "      <td>11829</td>\n",
       "      <td>8899387000</td>\n",
       "      <td>10668032899</td>\n",
       "      <td>26359757029</td>\n",
       "      <td>28128402928</td>\n",
       "    </tr>\n",
       "    <tr>\n",
       "      <th>87</th>\n",
       "      <td>2012</td>\n",
       "      <td>12064</td>\n",
       "      <td>8487135173</td>\n",
       "      <td>10525774825</td>\n",
       "      <td>27183123906</td>\n",
       "      <td>29221763558</td>\n",
       "    </tr>\n",
       "    <tr>\n",
       "      <th>86</th>\n",
       "      <td>2011</td>\n",
       "      <td>13244</td>\n",
       "      <td>8952952300</td>\n",
       "      <td>9795456314</td>\n",
       "      <td>24675265419</td>\n",
       "      <td>25517769433</td>\n",
       "    </tr>\n",
       "    <tr>\n",
       "      <th>85</th>\n",
       "      <td>2010</td>\n",
       "      <td>13046</td>\n",
       "      <td>9141605650</td>\n",
       "      <td>10019169395</td>\n",
       "      <td>24231912708</td>\n",
       "      <td>25109476453</td>\n",
       "    </tr>\n",
       "    <tr>\n",
       "      <th>84</th>\n",
       "      <td>2009</td>\n",
       "      <td>11333</td>\n",
       "      <td>8511345000</td>\n",
       "      <td>10474762721</td>\n",
       "      <td>23994243179</td>\n",
       "      <td>25957660900</td>\n",
       "    </tr>\n",
       "    <tr>\n",
       "      <th>83</th>\n",
       "      <td>2008</td>\n",
       "      <td>13579</td>\n",
       "      <td>8377546890</td>\n",
       "      <td>9352192675</td>\n",
       "      <td>21530275592</td>\n",
       "      <td>22504921377</td>\n",
       "    </tr>\n",
       "  </tbody>\n",
       "</table>\n",
       "</div>"
      ],
      "text/plain": [
       "    release_year     id  production_budget  domestic_gross  worldwide_gross  \\\n",
       "93          2018   7620         6883857000     10551784370      26094444899   \n",
       "92          2017   8639         8405163000     10453395075      28429629005   \n",
       "91          2016  10872         8973240000     11042828402      28768152741   \n",
       "90          2015  17326         8842179400     10795543800      27800988606   \n",
       "89          2014  12543         7753407373     10062192521      25273926856   \n",
       "88          2013  11829         8899387000     10668032899      26359757029   \n",
       "87          2012  12064         8487135173     10525774825      27183123906   \n",
       "86          2011  13244         8952952300      9795456314      24675265419   \n",
       "85          2010  13046         9141605650     10019169395      24231912708   \n",
       "84          2009  11333         8511345000     10474762721      23994243179   \n",
       "83          2008  13579         8377546890      9352192675      21530275592   \n",
       "\n",
       "        Profits  \n",
       "93  29762372269  \n",
       "92  30477861080  \n",
       "91  30837741143  \n",
       "90  29754353006  \n",
       "89  27582712004  \n",
       "88  28128402928  \n",
       "87  29221763558  \n",
       "86  25517769433  \n",
       "85  25109476453  \n",
       "84  25957660900  \n",
       "83  22504921377  "
      ]
     },
     "execution_count": 57,
     "metadata": {},
     "output_type": "execute_result"
    }
   ],
   "source": [
    "# Filtering the data to have the years 2010 and above\n",
    "trends_df2 = trends_df.loc[(trends_df['release_year']>= 2008)&(trends_df['release_year'] != 2019)&(trends_df['release_year'] != 2020)]\n",
    "trends_df2"
   ]
  },
  {
   "cell_type": "code",
   "execution_count": 58,
   "id": "c2e166c3",
   "metadata": {},
   "outputs": [
    {
     "data": {
      "image/png": "[encoded data removed]",
      "text/plain": [
       "<Figure size 1000x400 with 1 Axes>"
      ]
     },
     "metadata": {},
     "output_type": "display_data"
    }
   ],
   "source": [
    "# Creating a bar graph to show the trends \n",
    "trends_fig,ax = plt.subplots(figsize =(10,4))\n",
    "ax.bar(trends_df2['release_year'],trends_df2['Profits'],edgecolor = 'Black')\n",
    "trends_fig.suptitle('Profits gained from filming in recent years')\n",
    "ax.set_xlabel('Year')\n",
    "ax.set_xticks(trends_df2['release_year'])\n",
    "ax.set_ylabel('Profits')\n",
    "plt.show();"
   ]
  },
  {
   "cell_type": "markdown",
   "id": "7dcb11ce",
   "metadata": {},
   "source": [
    "From the bar graph it is observed that the profits gained from filming are high and the current trends show stability in the filming industry. Investing in filming is a good choice."
   ]
  },
  {
   "cell_type": "code",
   "execution_count": null,
   "id": "ce6cf14d",
   "metadata": {},
   "outputs": [],
   "source": []
  }
 ],
 "metadata": {
  "kernelspec": {
   "display_name": "Python 3 (ipykernel)",
   "language": "python",
   "name": "python3"
  },
  "language_info": {
   "codemirror_mode": {
    "name": "ipython",
    "version": 3
   },
   "file_extension": ".py",
   "mimetype": "text/x-python",
   "name": "python",
   "nbconvert_exporter": "python",
   "pygments_lexer": "ipython3",
   "version": "3.10.11"
  }
 },
 "nbformat": 4,
 "nbformat_minor": 5
}
